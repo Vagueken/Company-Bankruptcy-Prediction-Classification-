{
  "nbformat": 4,
  "nbformat_minor": 0,
  "metadata": {
    "colab": {
      "private_outputs": true,
      "provenance": [],
      "collapsed_sections": [
        "PiV4Ypx8fxKe",
        "TfvqoZmBfxKf",
        "dJ2tPlVmpsJ0",
        "JWYfwnehpsJ1",
        "-jK_YjpMpsJ2",
        "HAih1iBOpsJ2",
        "zVGeBEFhpsJ2",
        "bmKjuQ-FpsJ3",
        "Fze-IPXLpx6K",
        "7AN1z2sKpx6M",
        "9PIHJqyupx6M",
        "_-qAgymDpx6N",
        "Z-hykwinpx6N",
        "h_CCil-SKHpo",
        "cBFFvTBNJzUa",
        "HvGl1hHyA_VK",
        "EyNgTHvd2WFk",
        "KH5McJBi2d8v",
        "iW_Lq9qf2h6X",
        "-Kee-DAl2viO",
        "gCX9965dhzqZ",
        "gIfDvo9L0UH2"
      ],
      "include_colab_link": true
    },
    "kernelspec": {
      "name": "python3",
      "display_name": "Python 3"
    },
    "language_info": {
      "name": "python"
    },
    "gpuClass": "standard"
  },
  "cells": [
    {
      "cell_type": "markdown",
      "metadata": {
        "id": "view-in-github",
        "colab_type": "text"
      },
      "source": [
        "<a href=\"https://colab.research.google.com/github/Vagueken/Company-Bankruptcy-Prediction-Classification-/blob/main/Company_Bankruptcy_Prediction_(Classification).ipynb\" target=\"_parent\"><img src=\"https://colab.research.google.com/assets/colab-badge.svg\" alt=\"Open In Colab\"/></a>"
      ]
    },
    {
      "cell_type": "markdown",
      "source": [
        "# **Project Name**    - Company Bankruptcy Prediction\n",
        "\n"
      ],
      "metadata": {
        "id": "vncDsAP0Gaoa"
      }
    },
    {
      "cell_type": "markdown",
      "source": [
        "##### **Project Type**    - Classification\n",
        "##### **By -** Karan Malhotra"
      ],
      "metadata": {
        "id": "beRrZCGUAJYm"
      }
    },
    {
      "cell_type": "markdown",
      "source": [
        "# **Project Summary -** The Bank of England has warned that the number of companies declaring bankruptcy is on the rise, with more than 1,000 in the UK facing the threat of going bust. Prediction of bankruptcy is a phenomenon of increasing interest to firms who stand to lose money because of unpaid debts. Bankruptcy experts are using computers to predict which companies are likely to go bust, since computers can store huge data sets pertaining to bankruptcy, making accurate predictions from them beforehand is becoming important. The data were collected from the Taiwan Economic Journal for the years 1999 to 2009. Company bankruptcy was defined based on the business regulations of the Taiwan Stock Exchange. In this project we use various classification algorithms on bankruptcy dataset to predict bankruptcies. Bankruptcy is one of the biggest challenges facing the global financial sector, according to a report published by the Bank of England. Bankruptcy of companies and enterprises effects the financial market at multiple fronts, and hence the need to predict bankruptcy among companies by monitoring multiple variables takes on an added significance. A better understanding of bankruptcy and the ability to predict it will impact affect the profitability of lending institutions worldwide. With that in mind, we undertook the task of building different supervised-machine learning algorithms, along with a comparative analysis of each model, in order to identify those that are better suited for predicting economic bankruptcy. The history of bankruptcy prediction includes application of numerous statistical tools which gradually became available, and involves deepening appreciation of various pitfalls in early analyses. Research is still published that suffers pitfalls that have been understood for many years. Bankruptcy prediction has been a subject of formal analysis since at least 1932, when FitzPatrick published a study of 20 pairs of firms, one failed and one surviving, matched by date, size and industry, in The Certified Public Accountant. He did not perform statistical analysis as is now common, but he thoughtfully interpreted the ratios and trends in the ratios. His interpretation was effectively a complex, multiple variable analysis. The latest research within the field of Bankruptcy and Insolvency Prediction compares various differing approaches, modelling techniques, and individual models to ascertain whether any one technique is superior to its counterparts. The term bankruptcy is expressed as the inability of a company to pay its debts to its creditors. The bankruptcy of a company and even the possibility of going bankrupt is important for the company's investors and society. Therefore, bankruptcy prediction should be made before the bankruptcy of a company and necessary and appropriate models should be built. In this part of the model, we created machine learning algorithms that can predict whether companies will go bankrupt. In this way, it will be possible to predict the bankruptcy of companies with their financial statements and financial ratios. There are more than 6800 companies in the data used in the bankruptcy prediction model. The bankruptcy cases of these companies in the data are shown as 1 (bankrupted) and 0 (failed to go bankrupt) and it is tried to predict whether they will go bankrupt with 95 financial ratios i.e 95 features in the dataset. Our goal is to use these features to have clearer information about the future and legitimacy of the companies. We won't be using all the features except the top features that affect our target variable the most. So, lets see how many features are we gonna use to predict our target variable."
      ],
      "metadata": {
        "id": "FJNUwmbgGyua"
      }
    },
    {
      "cell_type": "markdown",
      "source": [
        "Write the summary here within 500-600 words."
      ],
      "metadata": {
        "id": "F6v_1wHtG2nS"
      }
    },
    {
      "cell_type": "markdown",
      "source": [
        "# **GitHub Link -**"
      ],
      "metadata": {
        "id": "w6K7xa23Elo4"
      }
    },
    {
      "cell_type": "markdown",
      "source": [
        "https://github.com/Vagueken/Company-Bankruptcy-Prediction-Classification-"
      ],
      "metadata": {
        "id": "h1o69JH3Eqqn"
      }
    },
    {
      "cell_type": "markdown",
      "source": [
        "# **Problem Statement**\n"
      ],
      "metadata": {
        "id": "yQaldy8SH6Dl"
      }
    },
    {
      "cell_type": "markdown",
      "source": [
        "#Business Context\n",
        "\n",
        "Prediction of bankruptcy is a phenomenon of increasing interest to firms who stand to lose money because of unpaid debts. Since computers can store huge data sets pertaining to bankruptcy, making accurate predictions from them beforehand is becoming important.\n",
        "The data were collected from the Taiwan Economic Journal for the years 1999 to 2009.\n",
        "Company bankruptcy was defined based on the business regulations of the Taiwan Stock Exchange. In this project you will use various classification algorithms on bankruptcy dataset to predict bankruptcies with satisfying accuracies long before the actual event.\n",
        "\n",
        "#Main Libraries used:\n",
        "\n",
        "• Pandas for data manipulation, aggregation\n",
        "\n",
        "• Matplotlib and Seaborn for visualization and behavior with respect to the target variable\n",
        "\n",
        "• NumPy for computationally efficient operations\n",
        "\n",
        "• Scikit Learn for model training, model optimization, and metrics calculation"
      ],
      "metadata": {
        "id": "DpeJGUA3kjGy"
      }
    },
    {
      "cell_type": "markdown",
      "source": [
        "# **General Guidelines** : -  "
      ],
      "metadata": {
        "id": "mDgbUHAGgjLW"
      }
    },
    {
      "cell_type": "markdown",
      "source": [
        "1.   Well-structured, formatted, and commented code is required. \n",
        "2.   Exception Handling, Production Grade Code & Deployment Ready Code will be a plus. Those students will be awarded some additional credits. \n",
        "     \n",
        "     The additional credits will have advantages over other students during Star Student selection.\n",
        "       \n",
        "             [ Note: - Deployment Ready Code is defined as, the whole .ipynb notebook should be executable in one go\n",
        "                       without a single error logged. ]\n",
        "\n",
        "3.   Each and every logic should have proper comments.\n",
        "4. You may add as many number of charts you want. Make Sure for each and every chart the following format should be answered.\n",
        "        \n",
        "\n",
        "```\n",
        "# Chart visualization code\n",
        "```\n",
        "            \n",
        "\n",
        "*   Why did you pick the specific chart?\n",
        "*   What is/are the insight(s) found from the chart?\n",
        "* Will the gained insights help creating a positive business impact? \n",
        "Are there any insights that lead to negative growth? Justify with specific reason.\n",
        "\n",
        "5. You have to create at least 15 logical & meaningful charts having important insights.\n",
        "\n",
        "\n",
        "[ Hints : - Do the Vizualization in  a structured way while following \"UBM\" Rule. \n",
        "\n",
        "U - Univariate Analysis,\n",
        "\n",
        "B - Bivariate Analysis (Numerical - Categorical, Numerical - Numerical, Categorical - Categorical)\n",
        "\n",
        "M - Multivariate Analysis\n",
        " ]\n",
        "\n",
        "\n",
        "\n",
        "\n",
        "\n",
        "6. You may add more ml algorithms for model creation. Make sure for each and every algorithm, the following format should be answered.\n",
        "\n",
        "\n",
        "*   Explain the ML Model used and it's performance using Evaluation metric Score Chart.\n",
        "\n",
        "\n",
        "*   Cross- Validation & Hyperparameter Tuning\n",
        "\n",
        "*   Have you seen any improvement? Note down the improvement with updates Evaluation metric Score Chart.\n",
        "\n",
        "*   Explain each evaluation metric's indication towards business and the business impact pf the ML model used.\n",
        "\n",
        "\n",
        "\n",
        "\n",
        "\n",
        "\n",
        "\n",
        "\n",
        "\n",
        "\n",
        "\n",
        "\n",
        "\n",
        "\n",
        "\n",
        "\n",
        "\n",
        "\n"
      ],
      "metadata": {
        "id": "ZrxVaUj-hHfC"
      }
    },
    {
      "cell_type": "markdown",
      "source": [
        "# ***Let's Begin !***"
      ],
      "metadata": {
        "id": "O_i_v8NEhb9l"
      }
    },
    {
      "cell_type": "markdown",
      "source": [
        "## ***1. Know Your Data***"
      ],
      "metadata": {
        "id": "HhfV-JJviCcP"
      }
    },
    {
      "cell_type": "markdown",
      "source": [
        "### Import Libraries"
      ],
      "metadata": {
        "id": "Y3lxredqlCYt"
      }
    },
    {
      "cell_type": "code",
      "source": [
        "# Import Libraries\n",
        "\n",
        "import numpy as np\n",
        "import pandas as pd\n",
        "import matplotlib.pyplot as plt\n",
        "%matplotlib inline\n",
        "import seaborn as sns\n",
        "from random import randint\n",
        "import math\n",
        "\n",
        "import plotly.express as px\n",
        "from matplotlib.pyplot import figure, savefig, show, show, subplots, Axes, title\n",
        "from scipy.stats import norm\n",
        "import plotly.graph_objects as go\n",
        "import plotly.figure_factory as ff\n",
        "\n",
        "from plotly.offline import download_plotlyjs, init_notebook_mode, plot, iplot\n",
        "from plotly.subplots import make_subplots\n",
        "from sklearn.tree import DecisionTreeClassifier\n",
        "from sklearn.ensemble import RandomForestClassifier\n",
        "from sklearn.svm import SVC\n",
        "from sklearn.neighbors import KNeighborsClassifier\n",
        "from sklearn.linear_model import LogisticRegression\n",
        "\n",
        "from sklearn.model_selection import train_test_split\n",
        "from sklearn.preprocessing import StandardScaler\n",
        "\n",
        "from sklearn import metrics\n",
        "from sklearn.metrics import precision_score, recall_score, f1_score\n",
        "from sklearn.metrics import (confusion_matrix, precision_recall_curve, auc, roc_curve, accuracy_score, recall_score, classification_report, f1_score, average_precision_score, precision_recall_fscore_support, roc_auc_score)\n",
        "from sklearn.metrics import confusion_matrix\n",
        "from sklearn.model_selection import GridSearchCV\n",
        "from sklearn.model_selection import RepeatedStratifiedKFold\n",
        "from sklearn.utils import class_weight\n",
        "from sklearn.feature_selection import RFE\n",
        "!pip install shap==0.40.0\n",
        "import shap \n",
        "\n",
        "from sklearn.pipeline import Pipeline\n",
        "from xgboost import XGBClassifier\n",
        "from xgboost import XGBRFClassifier\n",
        "from sklearn import preprocessing\n",
        "from imblearn.over_sampling import SMOTE\n",
        "from sklearn.metrics import roc_auc_score\n",
        "from sklearn.calibration import CalibratedClassifierCV, calibration_curve\n",
        "from sklearn.isotonic import IsotonicRegression\n",
        "\n",
        "import warnings\n",
        "\n",
        "#Ignore warnings\n",
        "warnings.filterwarnings(action='ignore')\n",
        "\n"
      ],
      "metadata": {
        "id": "M8Vqi-pPk-HR"
      },
      "execution_count": null,
      "outputs": []
    },
    {
      "cell_type": "markdown",
      "source": [
        "### Dataset Loading"
      ],
      "metadata": {
        "id": "3RnN4peoiCZX"
      }
    },
    {
      "cell_type": "code",
      "source": [
        "# Load Dataset\n",
        "\n",
        "#mounting drive\n",
        "from google.colab import drive\n",
        "drive.mount('/content/drive')\n",
        "\n",
        "path = \"/content/drive/MyDrive/AlmaBetter DS/Capstone Project/(Supervised ML - Classification) Company Bankruptcy Prediction/COMPANY BANKRUPTCY PREDICTION.csv\"\n",
        "Bankruptcy_data = pd.read_csv(path)"
      ],
      "metadata": {
        "id": "4CkvbW_SlZ_R"
      },
      "execution_count": null,
      "outputs": []
    },
    {
      "cell_type": "code",
      "source": [
        "#increasing no. of columns to display\n",
        "\n",
        "pd.set_option('display.max_columns', None)\n",
        "     "
      ],
      "metadata": {
        "id": "Ey4zw7LEiZw3"
      },
      "execution_count": null,
      "outputs": []
    },
    {
      "cell_type": "markdown",
      "source": [
        "### Dataset First View"
      ],
      "metadata": {
        "id": "x71ZqKXriCWQ"
      }
    },
    {
      "cell_type": "code",
      "source": [
        "# Dataset First Look\n",
        "\n",
        "Bankruptcy_data.head()"
      ],
      "metadata": {
        "id": "LWNFOSvLl09H"
      },
      "execution_count": null,
      "outputs": []
    },
    {
      "cell_type": "code",
      "source": [
        "Bankruptcy_data.tail()"
      ],
      "metadata": {
        "id": "dIuuOycAcUiv"
      },
      "execution_count": null,
      "outputs": []
    },
    {
      "cell_type": "markdown",
      "source": [
        "### Dataset Rows & Columns count"
      ],
      "metadata": {
        "id": "7hBIi_osiCS2"
      }
    },
    {
      "cell_type": "code",
      "source": [
        "# Dataset Rows & Columns count\n",
        "\n",
        "\n",
        "print(\"The dataset has\" ,Bankruptcy_data.shape[0],\"rows\")\n",
        "print(\"\\n\")\n",
        "print(\"The dataset has\" ,Bankruptcy_data.shape[1],\"columns\")"
      ],
      "metadata": {
        "id": "Kllu7SJgmLij"
      },
      "execution_count": null,
      "outputs": []
    },
    {
      "cell_type": "markdown",
      "source": [
        "### Dataset Information"
      ],
      "metadata": {
        "id": "JlHwYmJAmNHm"
      }
    },
    {
      "cell_type": "code",
      "source": [
        "# Dataset Info\n",
        "\n",
        "Bankruptcy_data.info()"
      ],
      "metadata": {
        "id": "e9hRXRi6meOf"
      },
      "execution_count": null,
      "outputs": []
    },
    {
      "cell_type": "markdown",
      "source": [
        "#### Duplicate Values"
      ],
      "metadata": {
        "id": "35m5QtbWiB9F"
      }
    },
    {
      "cell_type": "code",
      "source": [
        "# Dataset Duplicate Value Count\n",
        "\n",
        "# get the number of missing data points per column\n",
        "missing_value_count = (Bankruptcy_data.isnull().sum())\n",
        "print(missing_value_count[missing_value_count > 0])\n",
        "# percent of data that is missing\n",
        "total_cells = np.product(Bankruptcy_data.shape)\n",
        "total_missing_value = missing_value_count.sum()\n",
        "print(total_missing_value / total_cells * 100)\n",
        "print('Total number of our cells is :',total_cells)\n",
        "print('Total number of our missing value is :',total_missing_value)\n",
        "print('Total number of duplicate data is :',Bankruptcy_data.duplicated().sum())\n"
      ],
      "metadata": {
        "id": "1sLdpKYkmox0"
      },
      "execution_count": null,
      "outputs": []
    },
    {
      "cell_type": "markdown",
      "source": [
        "#### Missing Values/Null Values"
      ],
      "metadata": {
        "id": "PoPl-ycgm1ru"
      }
    },
    {
      "cell_type": "code",
      "source": [
        "# using isnull() function crosscheck\n",
        "\n",
        "print('Total number of null value is :',Bankruptcy_data.isnull().sum().max())"
      ],
      "metadata": {
        "id": "1XhofNZDrWU-"
      },
      "execution_count": null,
      "outputs": []
    },
    {
      "cell_type": "code",
      "source": [
        "# Visualizing the missing values\n",
        "\n",
        "import missingno as msno \n",
        "\n",
        "msno.bar(Bankruptcy_data)\n"
      ],
      "metadata": {
        "id": "Ke10uC5asheT"
      },
      "execution_count": null,
      "outputs": []
    },
    {
      "cell_type": "code",
      "source": [
        "#analyzing Target variable (Class: 0 = Not Bankrupt, 1 = Bankrupt)\n",
        "\n",
        "# Checking labels distributions\n",
        "\n",
        "sns.set_theme(context = 'talk', style='darkgrid', palette='deep', font='sans-serif', font_scale = 0.8, rc={\"grid.linewidth\": 4})\n",
        "\n",
        "plt.figure(figsize = (9,6))\n",
        "sns.countplot(Bankruptcy_data['Bankrupt?'])\n",
        "plt.title('Class Distributions \\n (0: Failed to go bankrupt || 1: Went bankrupt)', fontsize=16)\n",
        "plt.show()"
      ],
      "metadata": {
        "id": "HJCdPjGj8LMq"
      },
      "execution_count": null,
      "outputs": []
    },
    {
      "cell_type": "markdown",
      "source": [
        "### What did you know about your dataset?"
      ],
      "metadata": {
        "id": "H0kj-8xxnORC"
      }
    },
    {
      "cell_type": "markdown",
      "source": [
        " 1. Fortunately we don't have any missing values, inspecting missing values using isnull() and missingno function gave the same result. By visualization we see that in each column we have 6819 non null values.\n",
        "\n",
        " 2. The dataset has 6819 rows and 96 columns, there are 95 dimensions in data, leaving column 'Bankrupt?' which is the target to predict, regarded as the y of data.\n",
        "\n",
        "3. The 'Bankrupt?' column consists of label '1' and '0', and the label '1' points to the bankrupt condition of company, the label '0' means not bankrupt. The number of bankrupt company : not bankrupt company =1:30, as we turn it into binary classifier problem.\n",
        "\n",
        "4. Missing value analysis, According to the statistics, there are no missing values in 95 feature columns, which have relatively complete features and little interference to model prediction. So instead of removing any of the original features, we use automatic model selection, as the model can automatically assign features of the weight.\n",
        "\n",
        "\n"
      ],
      "metadata": {
        "id": "gfoNAAC-nUe_"
      }
    },
    {
      "cell_type": "markdown",
      "source": [
        "## ***2. Understanding Your Variables***"
      ],
      "metadata": {
        "id": "nA9Y7ga8ng1Z"
      }
    },
    {
      "cell_type": "code",
      "source": [
        "# Dataset Columns\n",
        "\n",
        "Bankruptcy_data.columns"
      ],
      "metadata": {
        "id": "j7xfkqrt5Ag5"
      },
      "execution_count": null,
      "outputs": []
    },
    {
      "cell_type": "code",
      "source": [
        "# Dataset Describe\n",
        "\n",
        "Bankruptcy_data.describe()"
      ],
      "metadata": {
        "id": "DnOaZdaE5Q5t"
      },
      "execution_count": null,
      "outputs": []
    },
    {
      "cell_type": "markdown",
      "source": [
        "### Variables Description "
      ],
      "metadata": {
        "id": "PBTbrJXOngz2"
      }
    },
    {
      "cell_type": "markdown",
      "source": [
        "\n",
        "• Bankrupt?: Class label 1: Yes, O: No\n",
        "\n",
        "• ROA(C) before interest and depreciation before interest: Return On Total\n",
        "Assets(C)\n",
        "\n",
        "• ROA(A) before interest and % after tax: Return On Total Assets(A)\n",
        "\n",
        "• ROA (B) before interest and depreciation after tax: Return On Total Assets(B)\n",
        "\n",
        "• Operating Gross Margin: Gross Profit/Net Sales\n",
        "\n",
        "• Realized Sales Gross Margin: Realized Gross Profit/Net Sales\n",
        "\n",
        "• Operating Profit Rate: Operating Income/Net Sales\n",
        "\n",
        "• Pre-tax net Interest Rate: Pre-Tax Income/Net Sales\n",
        "\n",
        "• After-tax net Interest Rate: Net Income/Net Sales\n",
        "\n",
        "• Non-industry income and expenditure/revenue: Net Non-operating Income Ratio\n",
        "\n",
        "• Continuous interest rate after tax): Net Income-Exclude Disposal Gain or\n",
        "Loss/Net Sales\n",
        "\n",
        "• Operating Expense Rate: Operating Expenses/Net Sales\n",
        "\n",
        "• Research and development expense rate: (Research and Development\n",
        "Expenses)/Net Sales\n",
        "\n",
        "• Cash flow rate: Cash Flow from Operating/Current Liabilities\n",
        "\n",
        "• Interest-bearing debt interest rate: Interest-bearing Debt/Equity\n",
        "\n",
        "• Tax rate (A): Effective Tax Rate\n",
        "\n",
        "• Net Value Per Share B): Book Value Per Share B)\n",
        "\n",
        "• Net Value Per Share (A): Book Value Per Share(A)\n",
        "\n",
        "• Net Value Per Share (C): Book Value Per Share(C)\n",
        "\n",
        "• Persistent EPS in the Last Four Seasons: EPS-Net Income\n",
        "\n",
        "• Cash Flow Per Share\n",
        "\n",
        "• Revenue Per Share Yuan ¥: Sales Per Share\n",
        "\n",
        "• Operating Profit Per Share (Yuan *): Operating Income Per Share\n",
        "\n",
        "• Per Share Net profit before tax (Yuan ¥): Pretax Income Per Share\n",
        "\n",
        "• Realized Sales Gross Profit Growth Rate\n",
        "\n",
        "• Operating Profit Growth Rate: Operating Income Growth\n",
        "\n",
        "• After-tax Net Profit Growth Rate: Net Income Growth\n",
        "\n",
        "• Regular Net Profit Growth Rate: Continuing Operating Income after Tax Growth\n",
        "\n",
        "• Continuous Net Profit Growth Rate: Net Income-Excluding Disposal Gain or Loss\n",
        "Growth\n",
        "\n",
        "• Total Asset Growth Rate: Total Asset Growth• Net Value Growth Rate: Total Equity Growth\n",
        "\n",
        "• Total Asset Return Growth Rate Ratio: Return on Total Asset Growth\n",
        "\n",
        "• Cash Reinvestment %: Cash Reinvestment Ratio\n",
        "\n",
        "• Current Ratio\n",
        "\n",
        "• Quick Ratio: Acid Test\n",
        "\n",
        "• Interest Expense Ratio: Interest Expenses/Total Revenue\n",
        "\n",
        "• Total debt/Total net worth: Total Liability/Equity Ratio\n",
        "\n",
        "• Debt ratio %: Liability/Total Assets\n",
        "\n",
        "• Net worth/Assets: Equity/Total Assets\n",
        "\n",
        "• Long-term fund suitability ratio (A): (Long-term Liability+Equity)/ Fixed Assets\n",
        "\n",
        "• Borrowing dependency: Cost of Interest-bearing Debt\n",
        "\n",
        "• Contingent liabilities/Net worth: Contingent Liability/Equity\n",
        "\n",
        "• Operating profit/Paid-in capital: Operating Income/Capital\n",
        "\n",
        "• Net profit before tax/Paid-in capital: Pretax Income/Capital\n",
        "\n",
        "• Inventory and accounts receivable/Net value: (Inventory+Accounts\n",
        "Receivables)/Equity\n",
        "\n",
        "• Total Asset Turnover\n",
        "\n",
        "• Accounts Receivable Turnover\n",
        "\n",
        "• Average Collection Days: Days Receivable Outstanding\n",
        "\n",
        "• Inventory Turnover Rate (times)\n",
        "\n",
        "• Fixed Assets Turnover Frequency\n",
        "\n",
        "• Net Worth Turnover Rate (times): Equity Turnover\n",
        "\n",
        "• Revenue per person: Sales Per Employee\n",
        "\n",
        "• Operating profit per person: Operation Income Per Employee\n",
        "\n",
        "• Allocation rate per person: Fixed Assets Per Employee\n",
        "\n",
        "• Working Capital to Total Assets\n",
        "\n",
        "• Quick Assets/Total Assets\n",
        "\n",
        "• Current Assets/Total Assets\n",
        "\n",
        "• Cash/Total Assets\n",
        "\n",
        "• Quick Assets/Current Liability\n",
        "\n",
        "• Cash/Current Liability\n",
        "\n",
        "• Current Liability to Assets\n",
        "\n",
        "• Operating Funds to Liability\n",
        "\n",
        "• Inventory/Working Capital\n",
        "\n",
        "• Inventory/Current Liability\n",
        "\n",
        "• Current Liabilities/Liability\n",
        "\n",
        "• Working Capital/Equity\n",
        "\n",
        "• Current Liabilities/Equity\n",
        "\n",
        "• Long-term Liability to Current Assets\n",
        "\n",
        "• Retained Earnings to Total Assets\n",
        "\n",
        "• Total income/Total expense\n",
        "\n",
        "• Total expense/Assets\n",
        "\n",
        "• Current Asset Turnover Rate: Current Assets to Sales\n",
        "\n",
        "• Ouick Asset Turnover Rate: Ouick Assets to Sales\n",
        "\n",
        "• Working capital Turnover Rate: Working Capital to Sales\n",
        "\n",
        "• Cash Turnover Rate: Cash to Sales\n",
        "\n",
        "• Cash Flow to Sales\n",
        "\n",
        "• Fixed Assets to Assets\n",
        "\n",
        "• Current Liability to Liability\n",
        "\n",
        "• Current Liability to Equity\n",
        "\n",
        "• Equity to Long-term Liability\n",
        "\n",
        "• Cash Flow to Total Assets\n",
        "\n",
        "• Cash Flow to Liability• CFO to Assets\n",
        "\n",
        "• Cash Flow to Equity\n",
        "\n",
        "• Current Liability to Current Assets\n",
        "\n",
        "• Liability-Assets Flag: 1 if Total Liability exceeds Total Assets, O otherwise\n",
        "\n",
        "• Net Income to Total Assets\n",
        "\n",
        "• Total assets to GNP price\n",
        "\n",
        "• No-credit Interval\n",
        "\n",
        "• Gross Profit to Sales\n",
        "\n",
        "• Net Income to Stockholder's Equity\n",
        "\n",
        "• Liability to Equity\n",
        "\n",
        "• Degree of Financial Leverage (DFL)\n",
        "\n",
        "• Interest Coverage Ratio (Interest expense to EBIT)\n",
        "\n",
        "• Net Income Flag: 1 if Net Income is Negative for the last two years, O otherwise\n",
        "\n",
        "• Equity to Liability"
      ],
      "metadata": {
        "id": "aJV4KIxSnxay"
      }
    },
    {
      "cell_type": "markdown",
      "source": [
        "### Check Unique Values for each variable."
      ],
      "metadata": {
        "id": "u3PMJOP6ngxN"
      }
    },
    {
      "cell_type": "code",
      "source": [
        "# Check Unique Values for each variable.\n",
        "\n",
        "{column: len(Bankruptcy_data[column].unique()) for column in Bankruptcy_data.columns}"
      ],
      "metadata": {
        "id": "zms12Yq5n-jE"
      },
      "execution_count": null,
      "outputs": []
    },
    {
      "cell_type": "markdown",
      "source": [
        "## 3. ***Data Wrangling***"
      ],
      "metadata": {
        "id": "dauF4eBmngu3"
      }
    },
    {
      "cell_type": "markdown",
      "source": [
        "### Data Wrangling Code"
      ],
      "metadata": {
        "id": "bKJF3rekwFvQ"
      }
    },
    {
      "cell_type": "code",
      "source": [
        "# Write your code to make your dataset analysis ready.\n",
        "# Create a copy of the current dataset and assigning to df\n",
        "\n",
        "df=Bankruptcy_data.copy()\n",
        "\n",
        "# Checking Shape of True Bankrupt Comapnies\n",
        "\n",
        "print(\"No. of Bankrupt companies -\",len(df[df['Bankrupt?']==1]))\n",
        "\n",
        "# Assigning True Bankrupt Companies to variable df_unstable\n",
        "\n",
        "df_unstable = df[(df['Bankrupt?']==1)]\n",
        "\n",
        "\n"
      ],
      "metadata": {
        "id": "wk-9a2fpoLcV"
      },
      "execution_count": null,
      "outputs": []
    },
    {
      "cell_type": "code",
      "source": [
        "print(df['Bankrupt?'].value_counts())\n",
        "labels = df['Bankrupt?'].unique()\n",
        "values = df['Bankrupt?'].value_counts().sort_values(ascending = True)\n",
        "\n",
        "fig = go.Figure(data = [\n",
        "    go.Pie(\n",
        "    labels = labels,\n",
        "    values = values,\n",
        "    hole = .5)\n",
        "])\n",
        "\n",
        "fig.update_layout(title_text = \"Bankrupt Distribution\")\n",
        "fig.show()"
      ],
      "metadata": {
        "id": "lIMqVk9hqIH2"
      },
      "execution_count": null,
      "outputs": []
    },
    {
      "cell_type": "code",
      "source": [
        "numeric_features = df.dtypes[df.dtypes != 'int64'].index\n",
        "categorical_features = df.dtypes[df.dtypes == 'int64'].index\n",
        "cont_features=df.select_dtypes(include=[np.number,'float64','int64']).columns\n",
        "\n",
        "df[categorical_features].columns.tolist()"
      ],
      "metadata": {
        "id": "hEw-RNBWW4II"
      },
      "execution_count": null,
      "outputs": []
    },
    {
      "cell_type": "markdown",
      "source": [
        "### What all manipulations have you done and insights you found?"
      ],
      "metadata": {
        "id": "MSa1f5Uengrz"
      }
    },
    {
      "cell_type": "markdown",
      "source": [
        "1. There is a huge difference between bankrupt and non-bankrupt companies. As we can see that 96.8% of companies are non-bankrupt and 3.2% are bankrupt so now we must balance the data in order to build an ideal model capable of learning between the two types of companies.\n",
        "\n",
        "2. Took sample from data to balance it and create new Date Frame. One way the imbalance may affect our Machine Learning algorithm is when our algorithm completely ignores the minority class. The reason this is an issue is because the minority class is often the class that we are most interested in.\n",
        "\n",
        "3.  The reason we identify imbalanced classification as a problem is because it can influence the performance on our Machine Learning algorithms.\n",
        "\n",
        "4. There are only three categorical data columns, we will first explore these columns\n",
        "\n"
      ],
      "metadata": {
        "id": "LbyXE7I1olp8"
      }
    },
    {
      "cell_type": "markdown",
      "source": [
        "## ***4. Data Vizualization, Storytelling & Experimenting with charts : Understand the relationships between variables***"
      ],
      "metadata": {
        "id": "GF8Ens_Soomf"
      }
    },
    {
      "cell_type": "code",
      "source": [
        "colors = ['Accent', 'Accent_r', 'Blues', 'Blues_r', 'BrBG', 'BrBG_r', 'BuGn', 'BuGn_r', 'BuPu', 'BuPu_r', 'CMRmap',\n",
        "          'CMRmap_r', 'Dark2', 'Dark2_r', 'GnBu', 'GnBu_r', 'Greens', 'Greens_r', 'Greys', 'Greys_r', 'OrRd', 'OrRd_r', \n",
        "          'Oranges', 'Oranges_r', 'PRGn', 'PRGn_r', 'Paired', 'Paired_r', 'Pastel1', 'Pastel1_r', 'Pastel2', 'Pastel2_r', \n",
        "          'PiYG', 'PiYG_r', 'PuBu', 'PuBuGn', 'PuBuGn_r', 'PuBu_r', 'PuOr', 'PuOr_r', 'PuRd', 'PuRd_r', 'Purples', 'Purples_r', \n",
        "          'RdBu', 'RdBu_r', 'RdGy', 'RdGy_r', 'RdPu', 'RdPu_r', 'RdYlBu', 'RdYlBu_r', 'RdYlGn', 'RdYlGn_r', 'Reds', 'Reds_r', \n",
        "          'Set1', 'Set1_r', 'Set2', 'Set2_r', 'Set3', 'Set3_r', 'Spectral', 'Spectral_r', 'Wistia', 'Wistia_r', 'YlGn', 'YlGnBu', \n",
        "          'YlGnBu_r', 'YlGn_r', 'YlOrBr', 'YlOrBr_r', 'YlOrRd', 'YlOrRd_r', 'afmhot', 'afmhot_r', 'autumn', 'autumn_r', 'binary', \n",
        "          'binary_r', 'bone', 'bone_r', 'brg', 'brg_r', 'bwr', 'bwr_r', 'cividis', 'cividis_r', 'cool', 'cool_r', 'coolwarm', \n",
        "          'coolwarm_r', 'copper', 'copper_r', 'crest', 'crest_r', 'cubehelix', 'cubehelix_r', 'flag', 'flag_r', 'flare', \n",
        "          'flare_r', 'gist_earth', 'gist_earth_r', 'gist_gray', 'gist_gray_r', 'gist_heat', 'gist_heat_r', 'gist_ncar', \n",
        "          'gist_ncar_r', 'gist_rainbow', 'gist_rainbow_r', 'gist_stern', 'gist_stern_r', 'gist_yarg', 'gist_yarg_r', 'gnuplot', \n",
        "          'gnuplot2', 'gnuplot2_r', 'gnuplot_r', 'gray', 'gray_r', 'hot', 'hot_r', 'hsv', 'hsv_r', 'icefire', 'icefire_r', \n",
        "          'inferno', 'inferno_r', 'jet', 'jet_r', 'magma', 'magma_r', 'mako', 'mako_r', 'nipy_spectral', 'nipy_spectral_r', \n",
        "          'ocean', 'ocean_r', 'pink', 'pink_r', 'plasma', 'plasma_r', 'prism', 'prism_r', 'rainbow', 'rainbow_r', 'rocket', \n",
        "          'rocket_r', 'seismic', 'seismic_r', 'spring', 'spring_r', 'summer', 'summer_r', 'tab10', 'tab10_r', 'tab20', \n",
        "          'tab20_r', 'tab20b', 'tab20b_r', 'tab20c', 'tab20c_r', 'terrain', 'terrain_r', 'turbo', 'turbo_r', 'twilight', \n",
        "          'twilight_r', 'twilight_shifted', 'twilight_shifted_r', 'viridis', 'viridis_r', 'vlag', 'vlag_r', 'winter', 'winter_r']"
      ],
      "metadata": {
        "id": "zm7I9nIBC7ut"
      },
      "execution_count": null,
      "outputs": []
    },
    {
      "cell_type": "markdown",
      "source": [
        "#### Chart - 1 - Pie Chart on Dependant Variable i.e., Bankrupt? (Univariate)"
      ],
      "metadata": {
        "id": "0wOQAZs5pc--"
      }
    },
    {
      "cell_type": "code",
      "source": [
        "# Chart - 1 visualization code\n",
        "\n",
        "# Dependant Column Value Counts\n",
        "print(df['Bankrupt?'].value_counts())\n",
        "print(\" \")\n",
        "\n",
        "# Dependant Variable Column Visualization\n",
        "df['Bankrupt?'].value_counts().plot(kind='pie',\n",
        "                              figsize=(15,6),\n",
        "                               autopct=\"%1.1f%%\",\n",
        "                               startangle=90,\n",
        "                               shadow=True,\n",
        "                               labels=['Not Bankrupt(%)','Bankrupt(%)'],\n",
        "                               colors=['skyblue','red'],\n",
        "                               explode=[0,0]\n",
        "                              )"
      ],
      "metadata": {
        "id": "7v_ESjsspbW7"
      },
      "execution_count": null,
      "outputs": []
    },
    {
      "cell_type": "markdown",
      "source": [
        "##### 1. Why did you pick the specific chart?"
      ],
      "metadata": {
        "id": "K5QZ13OEpz2H"
      }
    },
    {
      "cell_type": "markdown",
      "source": [
        "A pie chart expresses a part-to-whole relationship in your data. It's easy to explain the percentage comparison through area covered in a circle with different colors, where different percentage comparison comes into action pie chart is used frequently. So, I used Pie chart and which helped me to get the percentage comparision of the dependant variable."
      ],
      "metadata": {
        "id": "XESiWehPqBRc"
      }
    },
    {
      "cell_type": "markdown",
      "source": [
        "##### 2. What is/are the insight(s) found from the chart?"
      ],
      "metadata": {
        "id": "lQ7QKXXCp7Bj"
      }
    },
    {
      "cell_type": "markdown",
      "source": [
        "From the above chart I got to know that, there are 6599 companies that did not went bankrupt which is 96.8% of the whole customers data given in the dataset. In other hand, 220 companies are bankrupt which is 3.2% of the whole bankruptcy data given in the dataset.\n",
        "\n",
        "3.2% companies are bankrupt which might look like a small number, but since it can increase, so immediate action should be taken.\n"
      ],
      "metadata": {
        "id": "C_j1G7yiqdRP"
      }
    },
    {
      "cell_type": "markdown",
      "source": [
        "##### 3. Will the gained insights help creating a positive business impact? \n",
        "Are there any insights that lead to negative growth? Justify with specific reason."
      ],
      "metadata": {
        "id": "448CDAPjqfQr"
      }
    },
    {
      "cell_type": "markdown",
      "source": [
        "Financial statements are  records of a  company's financial \n",
        "information  in  an  accounting  period  that  can  be  used  to \n",
        "describe  the  performance  of  the  company.  Bankruptcy  is \n",
        "defined as a failure of the company in carrying out operations \n",
        "to  achieve  its  objectives.\n",
        "\n",
        "A  decrease  in  sales  can  cause  a  decrease  in  company's \n",
        "profit  and  if it  continuously  happens  then the  company  will \n",
        "experience  bankruptcy.  Bankruptcy  begins  with  financial \n",
        "distress.  Financial  distress  can  be  seen  and  measured  by \n",
        "analysing financial  statements. Ratio  analysis have  a role  in \n",
        "assessing the financial condition of a company. \n",
        "\n",
        "There are five \n",
        "types,  namely  liquidity  ratio,  activity  ratio,  solvency  ratio, \n",
        "profitability ratio, and market ratio. Anticipating the company’s \n",
        "financial  condition  early  is  essential  conducted  by  each \n",
        "company for the continuation of the company’s operations and \n",
        "better marketing strategies.  "
      ],
      "metadata": {
        "id": "3cspy4FjqxJW"
      }
    },
    {
      "cell_type": "markdown",
      "source": [
        "#### Chart - 2 Countplot on Categorical Variable i.e., Liability-Assets Flag    (Univariate)"
      ],
      "metadata": {
        "id": "KSlN3yHqYklG"
      }
    },
    {
      "cell_type": "code",
      "source": [
        "# Chart - 2 visualization code\n",
        "\n",
        "value = randint(0, len(colors)-1)\n",
        "\n",
        "print(df[' Liability-Assets Flag'].value_counts())\n",
        "sns.countplot(' Liability-Assets Flag',data=df,palette = colors[value])\n",
        "\n",
        "\n"
      ],
      "metadata": {
        "id": "R4YgtaqtYklH"
      },
      "execution_count": null,
      "outputs": []
    },
    {
      "cell_type": "markdown",
      "source": [
        "##### 1. Why did you pick the specific chart?"
      ],
      "metadata": {
        "id": "t6dVpIINYklI"
      }
    },
    {
      "cell_type": "markdown",
      "source": [
        "Countplot is used to do counts of observations in each categorical bin using bars. A count plot can be thought of as a histogram across a categorical, instead of quantitative, variable.)"
      ],
      "metadata": {
        "id": "5aaW0BYyYklI"
      }
    },
    {
      "cell_type": "markdown",
      "source": [
        "##### 2. What is/are the insight(s) found from the chart?"
      ],
      "metadata": {
        "id": "ijmpgYnKYklI"
      }
    },
    {
      "cell_type": "markdown",
      "source": [
        "High 0's and negligible 1's."
      ],
      "metadata": {
        "id": "PSx9atu2YklI"
      }
    },
    {
      "cell_type": "markdown",
      "source": [
        "##### 3. Will the gained insights help creating a positive business impact? \n",
        "Are there any insights that lead to negative growth? Justify with specific reason."
      ],
      "metadata": {
        "id": "-JiQyfWJYklI"
      }
    },
    {
      "cell_type": "markdown",
      "source": [
        "Assets are the items your company owns that can provide future economic benefit. Liabilities are what you owe other parties. In short, assets put money in your pocket, and liabilities take money out!\n",
        "\n",
        "The \"Liability-Assets\" flag denotes the status of an organization, where if the total liability exceeds total assets, the flagged value will be 1, else the value is 0. A majority number of times, organizations/company's assets are more than their liabilities. "
      ],
      "metadata": {
        "id": "BcBbebzrYklV"
      }
    },
    {
      "cell_type": "markdown",
      "source": [
        "#### Chart - 3 Countplot on Categorical Variable i.e., Net Income Flag    (Univariate)"
      ],
      "metadata": {
        "id": "4Of9eVA-YrdM"
      }
    },
    {
      "cell_type": "code",
      "source": [
        "# Chart - 3 visualization code\n",
        "\n",
        "value = randint(0, len(colors)-1)\n",
        "\n",
        "print(df[' Net Income Flag'].value_counts())\n",
        "sns.countplot(' Net Income Flag',data=df,palette = colors[value])"
      ],
      "metadata": {
        "id": "irlUoxc8YrdO"
      },
      "execution_count": null,
      "outputs": []
    },
    {
      "cell_type": "markdown",
      "source": [
        "##### 1. Why did you pick the specific chart?"
      ],
      "metadata": {
        "id": "iky9q4vBYrdO"
      }
    },
    {
      "cell_type": "markdown",
      "source": [
        "The countplot is majorly used for showing the observational count in different category based bins with the help of bars."
      ],
      "metadata": {
        "id": "aJRCwT6DYrdO"
      }
    },
    {
      "cell_type": "markdown",
      "source": [
        "##### 2. What is/are the insight(s) found from the chart?"
      ],
      "metadata": {
        "id": "F6T5p64dYrdO"
      }
    },
    {
      "cell_type": "markdown",
      "source": [
        "The \"Net Income\" flag denotes the status of an organization's income in the last two years, where if the net income is negative for the past two years, the flagged value will be 1, else the value is 0. We observe that all the records have been exhibiting a loss for the past two years."
      ],
      "metadata": {
        "id": "Xx8WAJvtYrdO"
      }
    },
    {
      "cell_type": "markdown",
      "source": [
        "##### 3. Will the gained insights help creating a positive business impact? \n",
        "Are there any insights that lead to negative growth? Justify with specific reason."
      ],
      "metadata": {
        "id": "y-Ehk30pYrdP"
      }
    },
    {
      "cell_type": "markdown",
      "source": [
        "The \"Net Income\" flag denotes the status of an organization's income in the last two years, where if the net income is negative for the past two years, the flagged value will be 1, else the value is 0."
      ],
      "metadata": {
        "id": "jLNxxz7MYrdP"
      }
    },
    {
      "cell_type": "markdown",
      "source": [
        "#### Chart - 4 Countplot on Categorical Variable i.e., Liability-Assets Flag with Bankrupt  (Bivariate)"
      ],
      "metadata": {
        "id": "EM7whBJCYoAo"
      }
    },
    {
      "cell_type": "code",
      "source": [
        "# Chart - 4 visualization code\n",
        "\n",
        "value = randint(0, len(colors)-1)\n",
        "\n",
        "print(df[[' Liability-Assets Flag','Bankrupt?']].value_counts())\n",
        "sns.countplot(x = ' Liability-Assets Flag',hue = 'Bankrupt?',data = df,palette = colors[value])\n",
        "\n"
      ],
      "metadata": {
        "id": "t6GMdE67YoAp"
      },
      "execution_count": null,
      "outputs": []
    },
    {
      "cell_type": "markdown",
      "source": [
        "##### 1. Why did you pick the specific chart?"
      ],
      "metadata": {
        "id": "fge-S5ZAYoAp"
      }
    },
    {
      "cell_type": "markdown",
      "source": [
        "The categorical data is distinguished as binary 1 and 0, thus stored as \"int64\". We separate the numeric and categoric data to analyze our dataset. Here is an example of a count plot, which shows the number of observations across a set of categorical bins."
      ],
      "metadata": {
        "id": "5dBItgRVYoAp"
      }
    },
    {
      "cell_type": "markdown",
      "source": [
        "##### 2. What is/are the insight(s) found from the chart?"
      ],
      "metadata": {
        "id": "85gYPyotYoAp"
      }
    },
    {
      "cell_type": "markdown",
      "source": [
        "A small portion of organizations suffers bankruptcy, although possessing more assets than their liabilities."
      ],
      "metadata": {
        "id": "4jstXR6OYoAp"
      }
    },
    {
      "cell_type": "markdown",
      "source": [
        "##### 3. Will the gained insights help creating a positive business impact? \n",
        "Are there any insights that lead to negative growth? Justify with specific reason."
      ],
      "metadata": {
        "id": "RoGjAbkUYoAp"
      }
    },
    {
      "cell_type": "markdown",
      "source": [
        "Yes, we can create a positive impact with this information as bankruptcy is when a company's assets fall short of its liabilities, and the company is forced to sell its assets. Loans issued by banks or other financial institutions that are secured by a specific asset, such as a building or a piece of expensive machinery, are examples of secured debt. Whatever assets and cash remain after all the secured creditors have been paid are pooled together and distributed to creditors with unsecured debt. Those would include bondholders and shareholders with preferred stock.  "
      ],
      "metadata": {
        "id": "zfJ8IqMcYoAp"
      }
    },
    {
      "cell_type": "markdown",
      "source": [
        "#### Chart - 5 Countplot on Categorical Variable i.e., Net Income Flag with Bankrupt (Bivariate)"
      ],
      "metadata": {
        "id": "bamQiAODYuh1"
      }
    },
    {
      "cell_type": "code",
      "source": [
        "# Chart - 5 visualization code\n",
        "\n",
        "value = randint(0, len(colors)-1)\n",
        "\n",
        "print(df[[' Net Income Flag','Bankrupt?']].value_counts())\n",
        "sns.countplot(x = ' Net Income Flag',hue = 'Bankrupt?',data = df,palette = colors[value])"
      ],
      "metadata": {
        "id": "TIJwrbroYuh3"
      },
      "execution_count": null,
      "outputs": []
    },
    {
      "cell_type": "markdown",
      "source": [
        "##### 1. Why did you pick the specific chart?"
      ],
      "metadata": {
        "id": "QHF8YVU7Yuh3"
      }
    },
    {
      "cell_type": "markdown",
      "source": [
        "The categorical data is distinguished as binary 1 and 0, thus stored as \"int64\". We separate the numeric and categoric data to analyze our dataset. Here is an example of a count plot, which shows the number of observations across a set of categorical bins."
      ],
      "metadata": {
        "id": "dcxuIMRPYuh3"
      }
    },
    {
      "cell_type": "markdown",
      "source": [
        "##### 2. What is/are the insight(s) found from the chart?"
      ],
      "metadata": {
        "id": "GwzvFGzlYuh3"
      }
    },
    {
      "cell_type": "markdown",
      "source": [
        "Many organizations that have suffered losses for the past two years have stabilized their business, thus avoiding bankruptcy."
      ],
      "metadata": {
        "id": "uyqkiB8YYuh3"
      }
    },
    {
      "cell_type": "markdown",
      "source": [
        "##### 3. Will the gained insights help creating a positive business impact? \n",
        "Are there any insights that lead to negative growth? Justify with specific reason."
      ],
      "metadata": {
        "id": "qYpmQ266Yuh3"
      }
    },
    {
      "cell_type": "markdown",
      "source": [
        "Yes a positive impact can be seen but since an organization cannot guarantee not being bankrupt, although owning several assets, Very few of the organizations that have had negative income in the past two years suffer from bankruptcy."
      ],
      "metadata": {
        "id": "_WtzZ_hCYuh4"
      }
    },
    {
      "cell_type": "markdown",
      "source": [
        "#### Chart - 6 Boxplot on Numerical Variable i.e., Operating Profit Rate with Bankrupt (Bivariate)"
      ],
      "metadata": {
        "id": "OH-pJp9IphqM"
      }
    },
    {
      "cell_type": "code",
      "source": [
        "# Chart - 6 visualization code\n",
        "\n",
        "q1,q9 = df[\" Operating Profit Rate\"].quantile([0.1,0.9])\n",
        "mask=df[\" Operating Profit Rate\"].between(q1,q9)\n",
        "sns.boxplot(x=\"Bankrupt?\",y=\" Operating Profit Rate\", data=df[mask]);\n"
      ],
      "metadata": {
        "id": "kuRf4wtuphqN"
      },
      "execution_count": null,
      "outputs": []
    },
    {
      "cell_type": "markdown",
      "source": [
        "##### 1. Why did you pick the specific chart?"
      ],
      "metadata": {
        "id": "bbFf2-_FphqN"
      }
    },
    {
      "cell_type": "markdown",
      "source": [
        "Box plots are used to show distributions of numeric data values, especially when you want to compare them between multiple groups. They are built to provide high-level information at a glance, offering general information about a group of data's symmetry, skew, variance, and outliers."
      ],
      "metadata": {
        "id": "loh7H2nzphqN"
      }
    },
    {
      "cell_type": "markdown",
      "source": [
        "##### 2. What is/are the insight(s) found from the chart?"
      ],
      "metadata": {
        "id": "_ouA3fa0phqN"
      }
    },
    {
      "cell_type": "markdown",
      "source": [
        "The Features are skewed."
      ],
      "metadata": {
        "id": "VECbqPI7phqN"
      }
    },
    {
      "cell_type": "markdown",
      "source": [
        "##### 3. Will the gained insights help creating a positive business impact? \n",
        "Are there any insights that lead to negative growth? Justify with specific reason."
      ],
      "metadata": {
        "id": "Seke61FWphqN"
      }
    },
    {
      "cell_type": "markdown",
      "source": [
        "No it is used just for seeing the distribution of Data."
      ],
      "metadata": {
        "id": "DW4_bGpfphqN"
      }
    },
    {
      "cell_type": "markdown",
      "source": [
        "#### Chart - 7 Column wise Histogram (Univariate)"
      ],
      "metadata": {
        "id": "PIIx-8_IphqN"
      }
    },
    {
      "cell_type": "code",
      "source": [
        "# Chart - 7 visualization code\n",
        "\n",
        "df.hist(figsize=(60, 50), bins=50)\n",
        "plt.show()\n"
      ],
      "metadata": {
        "id": "lqAIGUfyphqO"
      },
      "execution_count": null,
      "outputs": []
    },
    {
      "cell_type": "markdown",
      "source": [
        "##### 1. Why did you pick the specific chart?"
      ],
      "metadata": {
        "id": "t27r6nlMphqO"
      }
    },
    {
      "cell_type": "markdown",
      "source": [
        "The histogram is a popular graphing tool. It is used to summarize discrete or continuous data that are measured on an interval scale. It is often used to illustrate the major features of the distribution of the data in a convenient form. It is also useful when dealing with large data sets (greater than 100 observations). It can help detect any unusual observations (outliers) or any gaps in the data.\n",
        "\n",
        "Thus, I used the histogram plot to analysis the variable distributions over the whole dataset whether it's symmetric or not."
      ],
      "metadata": {
        "id": "iv6ro40sphqO"
      }
    },
    {
      "cell_type": "markdown",
      "source": [
        "##### 2. What is/are the insight(s) found from the chart?"
      ],
      "metadata": {
        "id": "r2jJGEOYphqO"
      }
    },
    {
      "cell_type": "markdown",
      "source": [
        "Many features are skewed and data is imbalanced."
      ],
      "metadata": {
        "id": "Po6ZPi4hphqO"
      }
    },
    {
      "cell_type": "markdown",
      "source": [
        "##### 3. Will the gained insights help creating a positive business impact? \n",
        "Are there any insights that lead to negative growth? Justify with specific reason."
      ],
      "metadata": {
        "id": "b0JNsNcRphqO"
      }
    },
    {
      "cell_type": "markdown",
      "source": [
        "No it is used just for seeing the distribution of Data."
      ],
      "metadata": {
        "id": "xvSq8iUTphqO"
      }
    },
    {
      "cell_type": "markdown",
      "source": [
        "#### Chart - 8 Plotting interesting features using Boxplot(Bivariate)"
      ],
      "metadata": {
        "id": "BZR9WyysphqO"
      }
    },
    {
      "cell_type": "code",
      "source": [
        "# Chart - 8 visualization code\n",
        "\n",
        "value = randint(0, len(colors)-1)\n",
        "\n",
        "f, axes=plt.subplots(ncols=4, figsize=(28, 10))\n",
        "\n",
        "sns.boxplot(x='Bankrupt?', y=' Net Income to Total Assets', data=df, ax=axes[0],palette = colors[value])\n",
        "axes[0].set_title('Bankrupt Vs Net Income to Total Assets')\n",
        "\n",
        "sns.boxplot(x='Bankrupt?', y=' Total debt/Total net worth', data=df, ax=axes[1],palette = colors[value])\n",
        "axes[1].set_title('Bankrupt Vs Total debt/Total net worth Correlation')\n",
        "\n",
        "sns.boxplot(x='Bankrupt?', y=' Debt ratio %', data=df, ax=axes[2],palette = colors[value])\n",
        "axes[2].set_title('Bankrupt Vs Debt ratio % Correlation')\n",
        "\n",
        "sns.boxplot(x='Bankrupt?', y=' Net worth/Assets', data=df, ax=axes[3],palette = colors[value])\n",
        "axes[3].set_title('Bankrupt Vs Net worth/Assets Correlation')\n",
        "\n",
        "plt.show()"
      ],
      "metadata": {
        "id": "TdPTWpAVphqO"
      },
      "execution_count": null,
      "outputs": []
    },
    {
      "cell_type": "markdown",
      "source": [
        "##### 1. Why did you pick the specific chart?"
      ],
      "metadata": {
        "id": "jj7wYXLtphqO"
      }
    },
    {
      "cell_type": "markdown",
      "source": [
        "Box plots are used to show distributions of numeric data values, especially when you want to compare them between multiple groups. So I used it to get general information about a group of data's symmetry, skew, variance, and outliers."
      ],
      "metadata": {
        "id": "Ob8u6rCTphqO"
      }
    },
    {
      "cell_type": "markdown",
      "source": [
        "##### 2. What is/are the insight(s) found from the chart?"
      ],
      "metadata": {
        "id": "eZrbJ2SmphqO"
      }
    },
    {
      "cell_type": "markdown",
      "source": [
        "Data is not symmetric and is skewed and also it can be seen that there are a lot multicollinearity issues, skewed features, and the data is imbalanced. With all that in mind for this model it is better not to use regression (logistic regression), it is better to use decision tree model.\n"
      ],
      "metadata": {
        "id": "mZtgC_hjphqO"
      }
    },
    {
      "cell_type": "markdown",
      "source": [
        "##### 3. Will the gained insights help creating a positive business impact? \n",
        "Are there any insights that lead to negative growth? Justify with specific reason."
      ],
      "metadata": {
        "id": "rFu4xreNphqO"
      }
    },
    {
      "cell_type": "markdown",
      "source": [
        "Box plot cannot define business impact. It's done just to see the distribution of the column data."
      ],
      "metadata": {
        "id": "ey_0qi68phqO"
      }
    },
    {
      "cell_type": "markdown",
      "source": [
        "#### Chart - 9 Plotting interesting features using Distplot (Univariate)"
      ],
      "metadata": {
        "id": "YJ55k-q6phqO"
      }
    },
    {
      "cell_type": "code",
      "source": [
        "# Chart - 9 visualization code\n",
        "\n",
        "f, (ax1, ax2, ax3, ax4) = plt.subplots(1,4, figsize=(24, 6))\n",
        "\n",
        "cash_flow_rate = df[' Net Income to Total Assets'].loc[df['Bankrupt?'] == 1].values\n",
        "sns.distplot(cash_flow_rate,ax=ax1, fit=norm, color='#FB8861')\n",
        "ax1.set_title(' Net Income to Total Assets \\n (Unstable companies)', fontsize=14)\n",
        "\n",
        "tot_debt_net = df[' Total debt/Total net worth'].loc[df['Bankrupt?'] == 1].values\n",
        "sns.distplot(tot_debt_net ,ax=ax2, fit=norm, color='#56F9BB')\n",
        "ax2.set_title('total debt/tot net worth \\n (Unstable companies)', fontsize=14)\n",
        "\n",
        "\n",
        "debt_ratio = df[' Debt ratio %'].loc[df['Bankrupt?'] == 1].values\n",
        "sns.distplot(debt_ratio,ax=ax3, fit=norm, color='#C5B3F9')\n",
        "ax3.set_title('debt_ratio \\n (Unstable companies)', fontsize=14)\n",
        "\n",
        "net_worth_assets = df[' Net worth/Assets'].loc[df['Bankrupt?'] == 1].values\n",
        "sns.distplot(net_worth_assets,ax=ax4, fit=norm, color='#C5B3F9')\n",
        "ax4.set_title('net worth/assets \\n (Unstable companies)', fontsize=14)\n",
        "\n",
        "plt.show()"
      ],
      "metadata": {
        "id": "B2aS4O1ophqO"
      },
      "execution_count": null,
      "outputs": []
    },
    {
      "cell_type": "markdown",
      "source": [
        "##### 1. Why did you pick the specific chart?"
      ],
      "metadata": {
        "id": "gCFgpxoyphqP"
      }
    },
    {
      "cell_type": "markdown",
      "source": [
        "A Distplot or distribution plot, depicts the variation in the data distribution. Seaborn Distplot represents the overall distribution of continuous data variables. I used this distribution to find the matching possible distribution."
      ],
      "metadata": {
        "id": "TVxDimi2phqP"
      }
    },
    {
      "cell_type": "markdown",
      "source": [
        "##### 2. What is/are the insight(s) found from the chart?"
      ],
      "metadata": {
        "id": "OVtJsKN_phqQ"
      }
    },
    {
      "cell_type": "markdown",
      "source": [
        "Distribution of features for companies that are close to bankruptcy."
      ],
      "metadata": {
        "id": "ngGi97qjphqQ"
      }
    },
    {
      "cell_type": "markdown",
      "source": [
        "##### 3. Will the gained insights help creating a positive business impact? \n",
        "Are there any insights that lead to negative growth? Justify with specific reason."
      ],
      "metadata": {
        "id": "lssrdh5qphqQ"
      }
    },
    {
      "cell_type": "markdown",
      "source": [
        "Just looking at the Distribution of features."
      ],
      "metadata": {
        "id": "tBpY5ekJphqQ"
      }
    },
    {
      "cell_type": "markdown",
      "source": [
        "#### Chart - 10 Bargraph(Bivariate with Categorical - Numerical)"
      ],
      "metadata": {
        "id": "U2RJ9gkRphqQ"
      }
    },
    {
      "cell_type": "code",
      "source": [
        "# Chart - 10 visualization code\n",
        "\n",
        "#For the sake of simplicity, we analyze the six top positively and negatively correlated attributes.\n",
        "\n",
        "\n",
        "positive_corr = df[numeric_features].corrwith(df[\"Bankrupt?\"]).sort_values(ascending=False)[:6].index.tolist()\n",
        "negative_corr = df[numeric_features].corrwith(df[\"Bankrupt?\"]).sort_values()[:6].index.tolist()\n",
        "\n",
        "positive_corr = df[positive_corr + [\"Bankrupt?\"]].copy()\n",
        "negative_corr = df[negative_corr + [\"Bankrupt?\"]].copy()\n",
        "\n",
        "def corrbargraph(x_value, y_value):\n",
        "    \n",
        "    plt.figure(figsize=(15,8))\n",
        "    value = randint(0, len(colors)-1)\n",
        "\n",
        "    for i in range(1,7):\n",
        "        plt.subplot(2,3,i)  \n",
        "        sns.barplot(x = x_value, y = y_value[i-1],data = df,palette = colors[value])\n",
        "\n",
        "    plt.tight_layout(pad=0.5)\n",
        "\n",
        "\n",
        "\n",
        "x_value = positive_corr.columns.tolist()[-1]\n",
        "y_value = positive_corr.columns.tolist()[:-1]\n",
        "\n",
        "corrbargraph(x_value, y_value)\n"
      ],
      "metadata": {
        "id": "GM7a4YP4phqQ"
      },
      "execution_count": null,
      "outputs": []
    },
    {
      "cell_type": "markdown",
      "source": [
        "##### 1. Why did you pick the specific chart?"
      ],
      "metadata": {
        "id": "1M8mcRywphqQ"
      }
    },
    {
      "cell_type": "markdown",
      "source": [
        "Bar charts show the frequency counts of values for the different levels of a categorical or nominal variable. Sometimes, bar charts show other statistics, such as percentages. \n",
        "\n",
        "To show the average percentage of unstable companies with respect to features, I have used Bar Chart."
      ],
      "metadata": {
        "id": "8agQvks0phqQ"
      }
    },
    {
      "cell_type": "markdown",
      "source": [
        "##### 2. What is/are the insight(s) found from the chart?"
      ],
      "metadata": {
        "id": "tgIPom80phqQ"
      }
    },
    {
      "cell_type": "markdown",
      "source": [
        "We see that three attributes - \"Debt Ratio %, Current Liability To Assets, Current Liability To Current Assets\" are commonly high in bankrupt organizations."
      ],
      "metadata": {
        "id": "Qp13pnNzphqQ"
      }
    },
    {
      "cell_type": "markdown",
      "source": [
        "##### 3. Will the gained insights help creating a positive business impact? \n",
        "Are there any insights that lead to negative growth? Justify with specific reason."
      ],
      "metadata": {
        "id": "JMzcOPDDphqR"
      }
    },
    {
      "cell_type": "markdown",
      "source": [
        "We look at some of the key financial ratios that can indicate whether a company is going to be able to repay its debts."
      ],
      "metadata": {
        "id": "R4Ka1PC2phqR"
      }
    },
    {
      "cell_type": "markdown",
      "source": [
        "#### Chart - 11 Bargraph(Bivariate)"
      ],
      "metadata": {
        "id": "x-EpHcCOp1ci"
      }
    },
    {
      "cell_type": "code",
      "source": [
        "# Chart - 11 visualization code\n",
        "\n",
        "x_value = negative_corr.columns.tolist()[-1]\n",
        "y_value = negative_corr.columns.tolist()[:-1]\n",
        "\n",
        "corrbargraph(x_value, y_value)"
      ],
      "metadata": {
        "id": "mAQTIvtqp1cj"
      },
      "execution_count": null,
      "outputs": []
    },
    {
      "cell_type": "markdown",
      "source": [
        "##### 1. Why did you pick the specific chart?"
      ],
      "metadata": {
        "id": "X_VqEhTip1ck"
      }
    },
    {
      "cell_type": "markdown",
      "source": [
        "Bar charts show the frequency counts of values for the different levels of a categorical or nominal variable. Sometimes, bar charts show other statistics, such as percentages.\n",
        "\n",
        "To show the average percentage of unstable companies with respect to features, I have used Bar Chart.\n"
      ],
      "metadata": {
        "id": "-vsMzt_np1ck"
      }
    },
    {
      "cell_type": "markdown",
      "source": [
        "##### 2. What is/are the insight(s) found from the chart?"
      ],
      "metadata": {
        "id": "8zGJKyg5p1ck"
      }
    },
    {
      "cell_type": "markdown",
      "source": [
        "These attributes show us that the more the assets and earing of a company, the less likely is the organization to be bankrupt. "
      ],
      "metadata": {
        "id": "ZYdMsrqVp1ck"
      }
    },
    {
      "cell_type": "markdown",
      "source": [
        "##### 3. Will the gained insights help creating a positive business impact? \n",
        "Are there any insights that lead to negative growth? Justify with specific reason."
      ],
      "metadata": {
        "id": "PVzmfK_Ep1ck"
      }
    },
    {
      "cell_type": "markdown",
      "source": [
        "These attributes show that the more the assets and earning of a company, the less likely it is to go bust."
      ],
      "metadata": {
        "id": "druuKYZpp1ck"
      }
    },
    {
      "cell_type": "markdown",
      "source": [
        "#### Chart - 12 Scatterplot(Bivariate)"
      ],
      "metadata": {
        "id": "n3dbpmDWp1ck"
      }
    },
    {
      "cell_type": "code",
      "source": [
        "# Chart - 12 visualization code\n",
        "\n",
        "#Let us check the relation of top six positive and negative correlation attributes among each other\n",
        "\n",
        "plt.figure(figsize=(20,9))\n",
        "\n",
        "plt.suptitle(\"Correlation Between Positive Attributes\")\n",
        "\n",
        "plt.subplot(1,2,1)\n",
        "plt.xlabel(\"Debt Ratio\")\n",
        "plt.ylabel(\"Current Liability To Assets Ratio\")\n",
        "plt.scatter(df[' Debt ratio %'],df[' Current Liability to Assets'], marker='v',color = 'red')\n",
        "\n",
        "plt.subplot(1,2,2)\n",
        "plt.xlabel(\"Borrowing Dependency\")\n",
        "plt.ylabel(\"Liability To Equity Ratio\")\n",
        "plt.scatter(df[' Borrowing dependency'],df[' Liability to Equity'], marker='v',color = 'red')\n",
        "\n",
        "plt.tight_layout(pad=0.8)\n",
        "\n",
        "plt.figure(figsize=(20,9))\n",
        "\n",
        "plt.suptitle(\"Correlation Between Negative Attributes\")\n",
        "\n",
        "plt.subplot(1,2,1)\n",
        "plt.xlabel(\"ROA (A)\")\n",
        "plt.ylabel(\"ROA (B)\")\n",
        "sns.scatterplot(data=df, x=' ROA(A) before interest and % after tax', y=' ROA(B) before interest and depreciation after tax',color = 'red')\n",
        "\n",
        "plt.subplot(1,2,2)\n",
        "plt.xlabel(\"ROA (B)\")\n",
        "plt.ylabel(\"ROA (C)\")\n",
        "sns.scatterplot(data=df, x=' ROA(B) before interest and depreciation after tax', y=' ROA(C) before interest and depreciation before interest',color = 'red')\n",
        "\n",
        "plt.tight_layout(pad=0.8)\n",
        "\n"
      ],
      "metadata": {
        "id": "bwevp1tKp1ck"
      },
      "execution_count": null,
      "outputs": []
    },
    {
      "cell_type": "markdown",
      "source": [
        "##### 1. Why did you pick the specific chart?"
      ],
      "metadata": {
        "id": "ylSl6qgtp1ck"
      }
    },
    {
      "cell_type": "markdown",
      "source": [
        "A scatter plot (aka scatter chart, scatter graph) uses dots to represent values for two different numeric variables. The position of each dot on the horizontal and vertical axis indicates values for an individual data point. Scatter plots are used to observe relationships between variables.\n",
        "\n",
        "Thus, I have used the scatter plot to depict the relationship between top six positive and negative correlation attributes among each other Debt Ratio and Current Liability To Assets Ratio and Between Borrowing Dependency and Liability to Equity Ratio being the positive correlation attributes and ROA(A) vs ROA(B) and ROA(B) vs ROA(C) being the negative correlation attributes."
      ],
      "metadata": {
        "id": "m2xqNkiQp1ck"
      }
    },
    {
      "cell_type": "markdown",
      "source": [
        "##### 2. What is/are the insight(s) found from the chart?"
      ],
      "metadata": {
        "id": "ZWILFDl5p1ck"
      }
    },
    {
      "cell_type": "markdown",
      "source": [
        "There is a positive relation between attributes that have a high correlation with the target attribute and there is a positive relation between attributes that have a low correlation with the target attribute."
      ],
      "metadata": {
        "id": "x-lUsV2mp1ck"
      }
    },
    {
      "cell_type": "markdown",
      "source": [
        "##### 3. Will the gained insights help creating a positive business impact? \n",
        "Are there any insights that lead to negative growth? Justify with specific reason."
      ],
      "metadata": {
        "id": "M7G43BXep1ck"
      }
    },
    {
      "cell_type": "markdown",
      "source": [
        "An increase in the values of the attributes “Debt Ratio %, Current Liability To Assets, Current Liability To Current Assets” causes an organization to suffer heavy losses, thus resulting in bankruptcy.\n",
        "An increase in the values of the attributes that have a negative correlation with the target attribute helps an organization avoid bankruptcy.\n",
        "There seems to be a relation between attributes that have a high correlation with the target attribute and a low correlation with the target attribute.\n",
        "Therefore gained insights could be useful for an oraganisation from ."
      ],
      "metadata": {
        "id": "5wwDJXsLp1cl"
      }
    },
    {
      "cell_type": "markdown",
      "source": [
        "#### Chart - 13 (Multivariate)"
      ],
      "metadata": {
        "id": "Ag9LCva-p1cl"
      }
    },
    {
      "cell_type": "code",
      "source": [
        "# Chart - 13 visualization code\n",
        "\n",
        "relation = positive_corr.columns.tolist()[:-1] + negative_corr.columns.tolist()[:-1]\n",
        "plt.figure(figsize=(20,10))\n",
        "sns.heatmap(df[relation].corr(),annot=True)\n"
      ],
      "metadata": {
        "id": "EUfxeq9-p1cl"
      },
      "execution_count": null,
      "outputs": []
    },
    {
      "cell_type": "markdown",
      "source": [
        "##### 1. Why did you pick the specific chart?"
      ],
      "metadata": {
        "id": "E6MkPsBcp1cl"
      }
    },
    {
      "cell_type": "markdown",
      "source": [
        "To get the total correlation of the top 12 attributes."
      ],
      "metadata": {
        "id": "V22bRsFWp1cl"
      }
    },
    {
      "cell_type": "markdown",
      "source": [
        "##### 2. What is/are the insight(s) found from the chart?"
      ],
      "metadata": {
        "id": "2cELzS2fp1cl"
      }
    },
    {
      "cell_type": "markdown",
      "source": [
        "We observed several correlations among the top 12 attributes, one of which being “Net Worth/Assets and Debt Ratio %” that is negatively correlated with one another. \n",
        "\n",
        "Rest all correlation can be depicted from the above chart."
      ],
      "metadata": {
        "id": "ozQPc2_Ip1cl"
      }
    },
    {
      "cell_type": "markdown",
      "source": [
        "#### Chart - 14 - Correlation Heatmap"
      ],
      "metadata": {
        "id": "NC_X3p0fY2L0"
      }
    },
    {
      "cell_type": "code",
      "source": [
        "# Correlation Heatmap visualization code\n",
        "corr = df.corr()\n",
        "cmap = cmap=sns.diverging_palette(5, 250, as_cmap=True)\n",
        "\n",
        "def magnify():\n",
        "    return [dict(selector=\"th\",\n",
        "                 props=[(\"font-size\", \"7pt\")]),\n",
        "            dict(selector=\"td\",\n",
        "                 props=[('padding', \"0em 0em\")]),\n",
        "            dict(selector=\"th:hover\",\n",
        "                 props=[(\"font-size\", \"12pt\")]),\n",
        "            dict(selector=\"tr:hover td:hover\",\n",
        "                 props=[('max-width', '200px'),\n",
        "                        ('font-size', '12pt')])\n",
        "]\n",
        "\n",
        "corr.style.background_gradient(cmap, axis=1)\\\n",
        "    .set_properties(**{'max-width': '80px', 'font-size': '10pt'})\\\n",
        "    .set_caption(\"Hover to magify\")\\\n",
        "    .set_precision(2)\\\n",
        "    .set_table_styles(magnify())"
      ],
      "metadata": {
        "id": "xyC9zolEZNRQ"
      },
      "execution_count": null,
      "outputs": []
    },
    {
      "cell_type": "markdown",
      "source": [
        "##### 1. Why did you pick the specific chart?"
      ],
      "metadata": {
        "id": "UV0SzAkaZNRQ"
      }
    },
    {
      "cell_type": "markdown",
      "source": [
        "A correlation matrix is a table showing correlation coefficients between variables. Each cell in the table shows the correlation between two variables. A correlation matrix is used to summarize data, as an input into a more advanced analysis, and as a diagnostic for advanced analyses. The range of correlation is [-1,1].\n",
        "\n",
        "Thus to know the correlation between all the variables along with the correlation coeficients, i used correlation heatmap.\n"
      ],
      "metadata": {
        "id": "DVPuT8LYZNRQ"
      }
    },
    {
      "cell_type": "markdown",
      "source": [
        "##### 2. What is/are the insight(s) found from the chart?"
      ],
      "metadata": {
        "id": "YPEH6qLeZNRQ"
      }
    },
    {
      "cell_type": "markdown",
      "source": [
        "Best five positive correlations:\n",
        "Debt ratio, Current Liability to Assets, Borrowing dependency, Current Liability to Current Assets, Liability to Equity \n",
        "\n",
        "Best five negative correlations:\n",
        "Net Income to Total Assets, ROA(A) before interest and % after tax, ROA(B) before interest and depreciation after tax , ROA(C) before interest and depreciation before interest, Net worth/Assets \n",
        "\n",
        "Net income Flag does not affect our Target column so we will drop it later.\n",
        "\n",
        "Rest all correlation can be depicted from the above chart.\n"
      ],
      "metadata": {
        "id": "bfSqtnDqZNRR"
      }
    },
    {
      "cell_type": "markdown",
      "source": [
        "## ***5. Hypothesis Testing***"
      ],
      "metadata": {
        "id": "g-ATYxFrGrvw"
      }
    },
    {
      "cell_type": "markdown",
      "source": [
        "### Based on your chart experiments, define three hypothetical statements from the dataset. In the next three questions, perform hypothesis testing to obtain final conclusion about the statements through your code and statistical testing."
      ],
      "metadata": {
        "id": "Yfr_Vlr8HBkt"
      }
    },
    {
      "cell_type": "markdown",
      "source": [
        "1.  Companies that encounter financial difficulties tend to have lower ROA.\n",
        "\n",
        "2.  Net Value per Share does not affect the Target Variable.\n",
        "\n",
        "3.  The Per Share Net profit before tax (Yuan ¥) is lower for stable companies."
      ],
      "metadata": {
        "id": "-7MS06SUHkB-"
      }
    },
    {
      "cell_type": "markdown",
      "source": [
        "### Hypothetical Statement - 1\n",
        "\n",
        "Companies that encounter financial difficulties tend to have lower ROA\n"
      ],
      "metadata": {
        "id": "8yEUt7NnHlrM"
      }
    },
    {
      "cell_type": "markdown",
      "source": [
        "#### 1. State Your research hypothesis as a null hypothesis and alternate hypothesis."
      ],
      "metadata": {
        "id": "tEA2Xm5dHt1r"
      }
    },
    {
      "cell_type": "markdown",
      "source": [
        "Null Hypothesis: Companies that encounter financial difficulties tend to have lower ROA.\n",
        "\n",
        "Alternate Hypothesis : Companies that encounter financial difficulties tend to have higher ROA.\n",
        "\n",
        "Test Type: Two tailed test\n"
      ],
      "metadata": {
        "id": "HI9ZP0laH0D-"
      }
    },
    {
      "cell_type": "markdown",
      "source": [
        "#### 2. Perform an appropriate statistical test."
      ],
      "metadata": {
        "id": "I79__PHVH19G"
      }
    },
    {
      "cell_type": "code",
      "source": [
        "# Perform Statistical Test to obtain P-Value\n",
        "from scipy import stats\n",
        "# Seperate dfs\n",
        "bankrupt_df = df[df['Bankrupt?']==True]\n",
        "not_bankrupt_df = df[df['Bankrupt?']==False]\n",
        "\n",
        "# Analyze distributions of selected features using rfecv\n",
        "cols = df.drop(\"Bankrupt?\", axis=1).columns\n",
        "cols = df.iloc[:,1:3]\n",
        "\n",
        "for feature in cols:\n",
        "  \n",
        "  a = bankrupt_df[feature]\n",
        "  b = not_bankrupt_df[feature]\n",
        "  b = b.sample(n=len(a), random_state=42) # Take random sample to match length of target\n",
        "  # Running t-tests\n",
        "  test = stats.ttest_ind(a,b)   \n",
        "  plt.figure() \n",
        "  sns.distplot(bankrupt_df[feature], kde=True, label=\"Bankrupt\")\n",
        "  sns.distplot(not_bankrupt_df[feature], kde=True, label=\"Not Bankrupt\") \n",
        "  plt.title(\"{} / p-value of t-test = :{}\".format(feature, test[1]))\n",
        "  plt.legend()"
      ],
      "metadata": {
        "id": "oZrfquKtyian"
      },
      "execution_count": null,
      "outputs": []
    },
    {
      "cell_type": "markdown",
      "source": [
        "##### Which statistical test have you done to obtain P-Value?"
      ],
      "metadata": {
        "id": "Ou-I18pAyIpj"
      }
    },
    {
      "cell_type": "markdown",
      "source": [
        "I have used T-Test as the statistical testing to obtain P-Value and found the result that Null hypothesis can't be rejected and Companies that encounter financial difficulties tend to have lower ROA."
      ],
      "metadata": {
        "id": "s2U0kk00ygSB"
      }
    },
    {
      "cell_type": "markdown",
      "source": [
        "##### Why did you choose the specific statistical test?"
      ],
      "metadata": {
        "id": "fF3858GYyt-u"
      }
    },
    {
      "cell_type": "markdown",
      "source": [
        "For studies with a large sample size, t-tests and their corresponding confidence intervals can and should be used even for heavily skewed data.\n",
        "\n",
        "So, for skewed data we can use T-test for better result. Thus, I used t - test.\n"
      ],
      "metadata": {
        "id": "HO4K0gP5y3B4"
      }
    },
    {
      "cell_type": "markdown",
      "source": [
        "### Hypothetical Statement - 2\n",
        "\n",
        "Net Value per Share does not affect the Target Variable."
      ],
      "metadata": {
        "id": "4_0_7-oCpUZd"
      }
    },
    {
      "cell_type": "markdown",
      "source": [
        "#### 1. State Your research hypothesis as a null hypothesis and alternate hypothesis."
      ],
      "metadata": {
        "id": "hwyV_J3ipUZe"
      }
    },
    {
      "cell_type": "markdown",
      "source": [
        "Null Hypothesis: Net Value per Share does not affect the Target Variable.\n",
        "\n",
        "Alternate Hypothesis : Net Value per Share affect the Target Variable.\n",
        "\n",
        "Test Type: Two tailed test\n"
      ],
      "metadata": {
        "id": "FnpLGJ-4pUZe"
      }
    },
    {
      "cell_type": "markdown",
      "source": [
        "#### 2. Perform an appropriate statistical test."
      ],
      "metadata": {
        "id": "3yB-zSqbpUZe"
      }
    },
    {
      "cell_type": "code",
      "source": [
        "# Perform Statistical Test to obtain P-Value\n",
        "\n",
        "cols = df.iloc[:,16:19]\n",
        "for feature in cols:\n",
        "  \n",
        "  a = bankrupt_df[feature]\n",
        "  b = not_bankrupt_df[feature]\n",
        "  b = b.sample(n=len(a), random_state=42) # Take random sample from each feature to match length of target\n",
        "  # Running t-tests\n",
        "  test = stats.ttest_ind(a,b)   \n",
        "  plt.figure() \n",
        "  sns.distplot(bankrupt_df[feature], kde=True, label=\"Bankrupt\")\n",
        "  sns.distplot(not_bankrupt_df[feature], kde=True, label=\"Not Bankrupt\") \n",
        "  plt.title(\"{} / p-value of t-test = :{}\".format(feature, test[1]))\n",
        "  plt.legend()\n"
      ],
      "metadata": {
        "id": "sWxdNTXNpUZe"
      },
      "execution_count": null,
      "outputs": []
    },
    {
      "cell_type": "markdown",
      "source": [
        "##### Which statistical test have you done to obtain P-Value?"
      ],
      "metadata": {
        "id": "dEUvejAfpUZe"
      }
    },
    {
      "cell_type": "markdown",
      "source": [
        "I have used T-Test as the statistical testing to obtain P-Value and found the result that Null hypothesis isn't True and Net Value per Share does affect the Target Variable. Therfore, we accept the Alternate Hypothesis here."
      ],
      "metadata": {
        "id": "oLDrPz7HpUZf"
      }
    },
    {
      "cell_type": "markdown",
      "source": [
        "##### Why did you choose the specific statistical test?"
      ],
      "metadata": {
        "id": "Fd15vwWVpUZf"
      }
    },
    {
      "cell_type": "markdown",
      "source": [
        "We have skewed and highly imbalanced data. Therfore we use t-test for our hypothesis and find our p value."
      ],
      "metadata": {
        "id": "4xOGYyiBpUZf"
      }
    },
    {
      "cell_type": "markdown",
      "source": [
        "### Hypothetical Statement - 3\n",
        "\n",
        " The Per Share Net profit before tax (Yuan ¥) is lower for stable companies."
      ],
      "metadata": {
        "id": "bn_IUdTipZyH"
      }
    },
    {
      "cell_type": "markdown",
      "source": [
        "#### 1. State Your research hypothesis as a null hypothesis and alternate hypothesis."
      ],
      "metadata": {
        "id": "49K5P_iCpZyH"
      }
    },
    {
      "cell_type": "markdown",
      "source": [
        "Null Hypothesis: The Per Share Net profit before tax (Yuan ¥) is lower for stable companies.\n",
        "\n",
        "Alternate Hypothesis : The Per Share Net profit before tax (Yuan ¥) is lower for unstable companies.\n",
        "\n",
        "Test Type: Two tailed test\n"
      ],
      "metadata": {
        "id": "7gWI5rT9pZyH"
      }
    },
    {
      "cell_type": "markdown",
      "source": [
        "#### 2. Perform an appropriate statistical test."
      ],
      "metadata": {
        "id": "Nff-vKELpZyI"
      }
    },
    {
      "cell_type": "code",
      "source": [
        "# Perform Statistical Test to obtain P-Value\n",
        "\n",
        "cols = df.iloc[:,23:24]\n",
        "for feature in cols:\n",
        "  \n",
        "  a = bankrupt_df[feature]\n",
        "  b = not_bankrupt_df[feature]\n",
        "  b = b.sample(n=len(a), random_state=42) # Take random sample from each feature to match length of target\n",
        "  # Running t-tests\n",
        "  test = stats.ttest_ind(a,b)   \n",
        "  plt.figure() \n",
        "  sns.distplot(bankrupt_df[feature], kde=True, label=\"Bankrupt\")\n",
        "  sns.distplot(not_bankrupt_df[feature], kde=True, label=\"Not Bankrupt\") \n",
        "  plt.title(\"{} / p-value of t-test = :{}\".format(feature, test[1]))\n",
        "  plt.legend()\n"
      ],
      "metadata": {
        "id": "s6AnJQjtpZyI"
      },
      "execution_count": null,
      "outputs": []
    },
    {
      "cell_type": "markdown",
      "source": [
        "##### Which statistical test have you done to obtain P-Value?"
      ],
      "metadata": {
        "id": "kLW572S8pZyI"
      }
    },
    {
      "cell_type": "markdown",
      "source": [
        "I have used T-Test as the statistical testing to obtain P-Value and found the result that Null hypothesis isn't True and The Per Share Net profit before tax (Yuan ¥) is lower for unstable companies. Therfore, we accept the Alternate Hypothesis here and will reject the null hypothesis."
      ],
      "metadata": {
        "id": "ytWJ8v15pZyI"
      }
    },
    {
      "cell_type": "markdown",
      "source": [
        "##### Why did you choose the specific statistical test?"
      ],
      "metadata": {
        "id": "dWbDXHzopZyI"
      }
    },
    {
      "cell_type": "markdown",
      "source": [
        "We have skewed and highly imbalanced data. Therfore we use t-test for our hypothesis and find our p value."
      ],
      "metadata": {
        "id": "M99G98V6pZyI"
      }
    },
    {
      "cell_type": "markdown",
      "source": [
        "## ***6. Feature Engineering & Data Pre-processing***"
      ],
      "metadata": {
        "id": "yLjJCtPM0KBk"
      }
    },
    {
      "cell_type": "code",
      "source": [
        "# Creating a copy of the dataset for further feature engineering\n",
        "df1=Bankruptcy_data.copy()"
      ],
      "metadata": {
        "id": "b3JXZWV4HdpN"
      },
      "execution_count": null,
      "outputs": []
    },
    {
      "cell_type": "markdown",
      "source": [
        "### 1. Handling Missing Values"
      ],
      "metadata": {
        "id": "xiyOF9F70UgQ"
      }
    },
    {
      "cell_type": "code",
      "source": [
        "# Handling Missing Values & Missing Value Imputation\n",
        "# Missing Values/Null Values Count\n",
        "print(df1.isnull().sum())\n",
        "\n",
        "\n",
        "# Visualizing the missing values\n",
        "# Checking Null Value by plotting Heatmap\n",
        "sns.heatmap(df1.isnull(), cbar=False)"
      ],
      "metadata": {
        "id": "iRsAHk1K0fpS"
      },
      "execution_count": null,
      "outputs": []
    },
    {
      "cell_type": "markdown",
      "source": [
        "#### What all missing value imputation techniques have you used and why did you use those techniques?"
      ],
      "metadata": {
        "id": "N26zBIydKEax"
      }
    },
    {
      "cell_type": "markdown",
      "source": [
        "There are no missing values to handle in the given dataset."
      ],
      "metadata": {
        "id": "Mcx4kjgCKEnD"
      }
    },
    {
      "cell_type": "markdown",
      "source": [
        "### 2. Feature Manipulation & Selection"
      ],
      "metadata": {
        "id": "-oLEiFgy-5Pf"
      }
    },
    {
      "cell_type": "markdown",
      "source": [
        "#### 1. Feature Manipulation\n",
        "\n",
        "We have a problem regarding the large number of features to choose from.  RFE  is effective at selecting those features (columns) in a training dataset that are more or most relevant in predicting the target variable. Model based feature selection uses a supervised machine learning model to judge the importance of each feature, and keeps only the most important ones. For this case, we are going to use a random forest classifier, since it usually yields good results and because this is a classification task.\n",
        "\n"
      ],
      "metadata": {
        "id": "C74aWNz2AliB"
      }
    },
    {
      "cell_type": "code",
      "source": [
        "# Select your features wisely to avoid overfitting\n",
        "\n",
        "# training set\n",
        "X = df1.iloc[:,1:].values\n",
        "y = df1.iloc[:,0].values.reshape(-1, 1)\n",
        "\n",
        "X_train, X_test, y_train, y_test = train_test_split(X, y, random_state=42)\n"
      ],
      "metadata": {
        "id": "YLhe8UmaBCEE"
      },
      "execution_count": null,
      "outputs": []
    },
    {
      "cell_type": "code",
      "source": [
        "# determining optimal number of features\n",
        "n_features = [5, 10, 15, 20, 25, 30, 35, 40]\n",
        "for i in n_features:\n",
        "    # Building the model based feature selection\n",
        "    select = RFE(RandomForestClassifier(n_estimators=100, random_state=42), n_features_to_select=i)\n",
        "\n",
        "    select.fit(X_train, y_train)\n",
        "\n",
        "    mask = select.get_support()\n",
        "\n",
        "    X_train_rfe = select.transform(X_train)\n",
        "    X_test_rfe = select.transform(X_test)\n",
        "\n",
        "    score = RandomForestClassifier().fit(X_train_rfe, y_train).score(X_test_rfe, y_test)\n",
        "    \n",
        "    print(\"Test score: {:.3f}\".format(score), \" number of features: {}\".format(i))\n"
      ],
      "metadata": {
        "id": "sI2lRZoWIfna"
      },
      "execution_count": null,
      "outputs": []
    },
    {
      "cell_type": "markdown",
      "source": [
        "#### 2. Feature Selection"
      ],
      "metadata": {
        "id": "2DejudWSA-a0"
      }
    },
    {
      "cell_type": "code",
      "source": [
        "select = RFE(RandomForestClassifier(n_estimators=100, random_state=42), n_features_to_select=15)\n",
        "\n",
        "select.fit(X_train, y_train)\n",
        "\n",
        "mask = select.get_support()\n",
        "\n",
        "X_train_rfe = select.transform(X_train)\n",
        "X_test_rfe = select.transform(X_test)\n",
        "\n",
        "score = RandomForestClassifier().fit(X_train_rfe, y_train).score(X_test_rfe, y_test)\n",
        "\n",
        "print(\"Test score: {:.3f}\".format(score), \" number of features: {}\".format(15))\n",
        "\n",
        "features = pd.DataFrame({'features':list(df1.iloc[:,1:].keys()), 'select':list(mask)})\n",
        "features = list(features[features['select']==True]['features'])\n",
        "features.append('Bankrupt?')\n"
      ],
      "metadata": {
        "id": "eFVsnj59I_83"
      },
      "execution_count": null,
      "outputs": []
    },
    {
      "cell_type": "code",
      "source": [
        "data_df = df1[features]\n",
        "\n",
        "\n",
        "data_df.info()"
      ],
      "metadata": {
        "id": "vjsk54buJAGt"
      },
      "execution_count": null,
      "outputs": []
    },
    {
      "cell_type": "code",
      "source": [
        "# Embedded Method of validating the feature importances of selected features\n",
        "def randomforest_embedded(x,y):\n",
        "  # Create the random forest eith hyperparameters\n",
        "  model= RandomForestClassifier(n_estimators=550)\n",
        "  # Fit the mmodel\n",
        "  model.fit(x,y)\n",
        "  # get the importance of thr resulting features\n",
        "  importances= model.feature_importances_\n",
        "  # Create a data frame for visualization\n",
        "  final_df= pd.DataFrame({\"Features\": pd.DataFrame(x).columns, \"Importances\": importances})\n",
        "  final_df.set_index('Importances')\n",
        "  # Sort in ascending order to better visualization\n",
        "  final_df= final_df.sort_values('Importances')\n",
        "  # Plot the feature importances in bars\n",
        "  # final_df.plot.bar(color='teal')\n",
        "  return final_df"
      ],
      "metadata": {
        "id": "NIfAJ6zGRN2C"
      },
      "execution_count": null,
      "outputs": []
    },
    {
      "cell_type": "code",
      "source": [
        "# Getting feature importance of selected features\n",
        "randomforest_embedded(x=data_df.drop([\"Bankrupt?\"],axis=1),y=data_df[\"Bankrupt?\"])"
      ],
      "metadata": {
        "id": "eBVu9YcwRN7I"
      },
      "execution_count": null,
      "outputs": []
    },
    {
      "cell_type": "code",
      "source": [
        "#assign target variable and features\n",
        "y = data_df['Bankrupt?']\n",
        "x = data_df.drop('Bankrupt?', axis=1)"
      ],
      "metadata": {
        "id": "P3JvAGv5d-hg"
      },
      "execution_count": null,
      "outputs": []
    },
    {
      "cell_type": "markdown",
      "source": [
        "##### What all feature selection methods have you used  and why?"
      ],
      "metadata": {
        "id": "pEMng2IbBLp7"
      }
    },
    {
      "cell_type": "markdown",
      "source": [
        "I have used Recursive Feature Elimination, or RFE for short, RFE is a wrapper-style feature selection algorithm that also uses filter-based feature selection internally.\n",
        "\n",
        "RFE works by searching for a subset of features by starting with all features in the training dataset and successfully removing features until the desired number remains. We have a problem regarding the large number of features to choose from. Recursive feature elimination (RFE) is a feature selection process that suits a model and eliminates the weakest feature (or features) before the required number of features is achieved. Features are rated by the model's coef or feature importances attributes, and RFE aims to remove dependencies and collinearity by recursively deleting a small number of features per loop, we are going to use a random forest classifier, since it usually yields good results and because this is a classification task.\n"
      ],
      "metadata": {
        "id": "rb2Lh6Z8BgGs"
      }
    },
    {
      "cell_type": "markdown",
      "source": [
        "##### Which all features you found important and why?"
      ],
      "metadata": {
        "id": "rAdphbQ9Bhjc"
      }
    },
    {
      "cell_type": "markdown",
      "source": [
        "I chose top 15 features using RFE, Because it's giving good accuracy for the training set and also it's not too much or too less as compared to 95 features in the original dataset."
      ],
      "metadata": {
        "id": "fGgaEstsBnaf"
      }
    },
    {
      "cell_type": "markdown",
      "source": [
        "Finally I found out 15 indepenedent features which are important and validate their importances through Embedded method using random forest classifier feature importance. All the features which i left with having some importances and none of them are 0. So, It validates the features make sense and heading towards the right direction."
      ],
      "metadata": {
        "id": "UDaue5h32n_G"
      }
    },
    {
      "cell_type": "markdown",
      "source": [
        "### 3. Handling Outliers"
      ],
      "metadata": {
        "id": "id1riN9m0vUs"
      }
    },
    {
      "cell_type": "code",
      "source": [
        "# Handling Outliers & Outlier treatments\n",
        "\n",
        "cat_features=data_df.select_dtypes(exclude=np.number).columns\n",
        "cont_features=data_df.select_dtypes(include=[np.number,'float64','int64']).columns\n",
        "\n",
        "features=print(data_df.columns)\n",
        "\n",
        "def cap_outliers(series, zscore_threshold=3, iqr_threshold=1.5, verbose=False, method=\"IQR\"):\n",
        "    if method==\"IQR\":\n",
        "#Caps outliers to closest existing value within threshold (IQR)\n",
        "        Q1 = series.quantile(0.25)\n",
        "        Q3 = series.quantile(0.75)\n",
        "        IQR = Q3 - Q1\n",
        "\n",
        "        lbound = Q1 - iqr_threshold * IQR\n",
        "        ubound = Q3 + iqr_threshold * IQR\n",
        "\n",
        "        outliers = (series < lbound) | (series > ubound)\n",
        "\n",
        "        series = series.copy()\n",
        "        series.loc[series < lbound] = series.loc[~outliers].min()\n",
        "        series.loc[series > ubound] = series.loc[~outliers].max()\n",
        "\n",
        "        # For comparison purposes.\n",
        "        if verbose:\n",
        "                print('\\n'.join(\n",
        "                    ['Capping outliers by the IQR method:',\n",
        "                     f'   IQR threshold: {iqr_threshold}',\n",
        "                     f'   Lower bound: {lbound}',\n",
        "                     f'   Upper bound: {ubound}\\n']))\n",
        "    \n",
        "    return series\n",
        "\n",
        "\n",
        "remove_list = [' Net Value Growth Rate', 'Bankrupt?']   \n",
        "features_treating = list(data_df.columns.values)\n",
        "\n",
        "res = [i for i in features_treating if i not in remove_list]\n",
        "\n",
        "features_treating = res\n",
        "features_treating\n",
        "for i, col in enumerate(features_treating):\n",
        "    data_df[col]=cap_outliers(data_df[col],method=\"IQR\", verbose=True)"
      ],
      "metadata": {
        "id": "M6w2CzZf04JK"
      },
      "execution_count": null,
      "outputs": []
    },
    {
      "cell_type": "code",
      "source": [
        "# Verification of Deleting Outliers\n",
        "\n",
        "cont_dummy=cont_features\n",
        "plt.figure(figsize=(45,25))\n",
        "for index, col in enumerate(cont_dummy, start=1):\n",
        "    plt.subplot(4,5,index)\n",
        "    plt.title(col)\n",
        "    ax = sns.boxplot(data_df[col])\n",
        "\n"
      ],
      "metadata": {
        "id": "O0ODlF6SfYXq"
      },
      "execution_count": null,
      "outputs": []
    },
    {
      "cell_type": "markdown",
      "source": [
        "##### What all outlier treatment techniques have you used and why did you use those techniques?"
      ],
      "metadata": {
        "id": "578E2V7j08f6"
      }
    },
    {
      "cell_type": "markdown",
      "source": [
        "I used the IQR method of identifying outliers to set up a “fence” outside of Q1 and Q3. Any values that fall outside of this fence are considered outliers. To build this fence we take 1.5 times the IQR and then subtract this value from Q1 and add this value to Q3. I used this method because it Caps outliers to closest existing value within threshold (IQR).\n",
        "\n",
        "\n",
        "The box plot is a useful graphical display for describing the behavior of the data in the middle as well as at the ends of the distributions. The box plot uses the median and the lower and upper quartiles (defined as the 25th and 75th percentiles). If the lower quartile is Q1 and the upper quartile is Q3, then the difference (Q3 — Q1) is called the interquartile range or IQ. A box plot is constructed by drawing a box between the upper and lower quartiles with a solid line drawn across the box to locate the median. The following quantities (called fences) are needed for identifying extreme values in the tails of the distribution:\n",
        "1.\tlower inner fence: Q1–1.5*IQ\n",
        "2.\tupper inner fence: Q3 + 1.5*IQ\n",
        "3.\tlower outer fence: Q1–3*IQ\n",
        "4.\tupper outer fence: Q3 + 3*IQ\n"
      ],
      "metadata": {
        "id": "uGZz5OrT1HH-"
      }
    },
    {
      "cell_type": "markdown",
      "source": [
        "### 5. Data Transformation"
      ],
      "metadata": {
        "id": "0HEamGe1fkd1"
      }
    },
    {
      "cell_type": "code",
      "source": [
        "central = data_df.groupby('Bankrupt?').median().reset_index()\n",
        "features = list(central.keys()[1:])\n",
        "\n",
        "fig, ax = plt.subplots(5,3, figsize=(40,25))\n",
        "\n",
        "ax = ax.ravel()\n",
        "position = 0\n",
        "\n",
        "for i in features:\n",
        "    sns.barplot(data=central, x='Bankrupt?', y=i, ax=ax[position], palette='bwr')\n",
        "    position += 1\n",
        "    \n",
        "plt.show()\n",
        "display(central)\n"
      ],
      "metadata": {
        "id": "Iywtf0bvfosg"
      },
      "execution_count": null,
      "outputs": []
    },
    {
      "cell_type": "markdown",
      "source": [
        "### 4. Dimesionality Reduction"
      ],
      "metadata": {
        "id": "1UUpS68QDMuG"
      }
    },
    {
      "cell_type": "markdown",
      "source": [
        "##### Do you think that dimensionality reduction is needed? Explain Why?"
      ],
      "metadata": {
        "id": "kexQrXU-DjzY"
      }
    },
    {
      "cell_type": "markdown",
      "source": [
        "We have a problem here with the huge dimensionality so we have reduced the dimensions for effectiveness."
      ],
      "metadata": {
        "id": "GGRlBsSGDtTQ"
      }
    },
    {
      "cell_type": "code",
      "source": [
        "# DImensionality Reduction (If needed)\n",
        "data_df.head()"
      ],
      "metadata": {
        "id": "kQfvxBBHDvCa"
      },
      "execution_count": null,
      "outputs": []
    },
    {
      "cell_type": "markdown",
      "source": [
        "##### Which dimensionality reduction technique have you used and why? (If dimensionality reduction done on dataset.)"
      ],
      "metadata": {
        "id": "T5CmagL3EC8N"
      }
    },
    {
      "cell_type": "markdown",
      "source": [
        "We have used RFE on our dataset to reduce the dimensions because since we have so many features it is best suited and also we should take it's help to select the top features affecting the target variable.\n",
        "\n",
        "Conclusions - \n",
        "\n",
        "Companies with:\n",
        "\n",
        "    high \"Interest-bearing debt interest rate\" tend to go bankrupt (≈ 0.000499)\n",
        "    high \"Total debt/Total net worth\" tend to go bankrupt (≈ 0.015723)\n",
        "    high \"Fixed Assets Turnover Frequency\" tend to go bankrupt (≈ 0.001225)\n",
        "    low \"Cash/Total Assets\" tend to go bankrupt (≈ 0.023755)\n",
        "    low \"Equity to Liability\" tend to go bankrupt (≈ 0.018662)\n",
        "\n",
        "Also, These indicators should be enough to build a reliable model since the trend is very clear."
      ],
      "metadata": {
        "id": "ZKr75IDuEM7t"
      }
    },
    {
      "cell_type": "markdown",
      "source": [
        "### 5. Data Splitting"
      ],
      "metadata": {
        "id": "BhH2vgX9EjGr"
      }
    },
    {
      "cell_type": "code",
      "source": [
        "# Split your data to train and test. Choose Splitting ratio wisely.\n",
        "\n",
        "X_train, X_test, y_train, y_test = train_test_split(\n",
        "    data_df.drop(labels=['Bankrupt?'], axis=1),\n",
        "    data_df['Bankrupt?'],\n",
        "    test_size=0.20,\n",
        "    random_state=0)\n",
        "\n",
        "X_train.shape, X_test.shape"
      ],
      "metadata": {
        "id": "0CTyd2UwEyNM"
      },
      "execution_count": null,
      "outputs": []
    },
    {
      "cell_type": "markdown",
      "source": [
        "##### What data splitting ratio have you used and why? "
      ],
      "metadata": {
        "id": "qjKvONjwE8ra"
      }
    },
    {
      "cell_type": "markdown",
      "source": [
        "There are two competing concerns: with less training data, your parameter estimates have greater variance. With less testing data, your performance statistic will have greater variance. Broadly speaking you should be concerned with dividing data such that neither variance is too high, which is more to do with the absolute number of instances in each category rather than the percentage.\n",
        "\n",
        "If you have a total of 100 instances, you're probably stuck with cross validation as no single split is going to give you satisfactory variance in your estimates. If you have 100,000 instances, it doesn't really matter whether you choose an 80:20 split or a 90:10 split (indeed you may choose to use less training data if your method is particularly computationally intensive).\n",
        "\n",
        "You'd be surprised to find out that 80/20 is quite a commonly occurring ratio, often referred to as the Pareto principle. It's usually a safe bet if you use that ratio.\n",
        "\n",
        "In this case the training dataset is less so i have taken 70:30 ratio."
      ],
      "metadata": {
        "id": "Y2lJ8cobFDb_"
      }
    },
    {
      "cell_type": "markdown",
      "source": [
        "### 6. Data Scaling"
      ],
      "metadata": {
        "id": "IFc1Lqeqvv20"
      }
    },
    {
      "cell_type": "code",
      "source": [
        "# Scaling your data\n",
        "\n",
        "from sklearn.preprocessing import StandardScaler\n",
        "sc = StandardScaler()\n",
        "X_train = sc.fit_transform(X_train)\n",
        "X_test = sc.transform(X_test)\n"
      ],
      "metadata": {
        "id": "HpHf5yPWvyEj"
      },
      "execution_count": null,
      "outputs": []
    },
    {
      "cell_type": "markdown",
      "source": [
        "Which method have you used to scale you data and why?"
      ],
      "metadata": {
        "id": "fovInLP8wOmU"
      }
    },
    {
      "cell_type": "markdown",
      "source": [
        "When you are using an algorithm that assumes your features have a similar range, you should use feature scaling.\n",
        "\n",
        "If the ranges of your features differ much then you should use feature scaling. If the range does not vary a lot like one of them is between 0 and 2 and the other one is between -1 and 0.5 then you can leave them as it's. However, you should use feature scaling if the ranges are, for example, between -2 and 2 and between -100 and 100.\n",
        "\n",
        "Use Standardization when your data follows Gaussian distribution. Use Normalization when your data does not follow Gaussian distribution.\n",
        "\n",
        "So, in my data only Account Length column having large data difference and following gaussian distribution. That's why, I have used standardization using standardscaler.\n"
      ],
      "metadata": {
        "id": "F7jwqCuxwUqP"
      }
    },
    {
      "cell_type": "markdown",
      "source": [
        "### 7. Handling Imbalanced Dataset"
      ],
      "metadata": {
        "id": "P1XJ9OREExlT"
      }
    },
    {
      "cell_type": "code",
      "source": [
        "# Chart - 1 visualization code\n",
        "# Dependant Column Value Counts\n",
        "print(Bankruptcy_data['Bankrupt?'].value_counts())\n",
        "print(\" \")\n",
        "# Dependant Variable Column Visualization\n",
        "Bankruptcy_data['Bankrupt?'].value_counts().plot(kind='pie',\n",
        "                              figsize=(15,6),\n",
        "                               autopct=\"%1.1f%%\",\n",
        "                               startangle=90,\n",
        "                               shadow=True,\n",
        "                               labels=['Stable(%)','Unstable(%)'],\n",
        "                               colors=['skyblue','red'],\n",
        "                               explode=[0,0]\n",
        "                              )"
      ],
      "metadata": {
        "id": "rwWMIwndyg8f"
      },
      "execution_count": null,
      "outputs": []
    },
    {
      "cell_type": "markdown",
      "source": [
        "##### Do you think the dataset is imbalanced? Explain Why."
      ],
      "metadata": {
        "id": "VFOzZv6IFROw"
      }
    },
    {
      "cell_type": "markdown",
      "source": [
        "Yes we have highly imbalanced data as companies with a low 'Net profit before tax/Paid-in capital', 'Persistent EPS in the Last Four Seasons' and 'Net Value Per Share (A)' 'Borrowing dependency' tend to go bankrupt and has bankrupt companies distributed through all it's range.\n",
        "\n",
        "Imbalanced dataset is relevant primarily in the context of supervised machine learning involving two or more classes.\n",
        "\n",
        "Imbalance means that the number of data points available for different the classes is different: If there are two classes, then balanced data would mean 50% points for each of the class. For most machine learning techniques, little imbalance is not a problem. So, if there are 60% points for one class and 40% for the other class, it should not cause any significant performance degradation. Only when the class imbalance is high, e.g. 90% points for one class and 10% for the other, standard optimization criteria or performance measures may not be as effective and would need modification.\n",
        "\n",
        "In our case the dataset dependent column data ratio is 70:30. So, during model creating it's obvios that there will be bias and having a great chance of predicting the majority one so frequently. So the dataset should be balanced before it going for the model creation part.\n"
      ],
      "metadata": {
        "id": "GeKDIv7pFgcC"
      }
    },
    {
      "cell_type": "code",
      "source": [
        "# Handling Imbalanced Dataset (If needed)\n",
        "\n",
        "# Handling Imbalanced Dataset (If needed)\n",
        "# Handling imbalance dataset using SMOTE\n",
        "sm = SMOTE(random_state=42) \n",
        "X_train, y_train = sm.fit_resample(X_train, y_train)\n",
        "\n",
        "# describes info about train and test set\n",
        "print(\"Number transactions X_train dataset: \", X_train.shape)\n",
        "print(\"Number transactions y_train dataset: \", y_train.shape)\n",
        "print(\"Number transactions X_test dataset: \", X_test.shape)\n",
        "print(\"Number transactions y_test dataset: \", y_test.shape)\n"
      ],
      "metadata": {
        "id": "nQsRhhZLFiDs"
      },
      "execution_count": null,
      "outputs": []
    },
    {
      "cell_type": "markdown",
      "source": [
        "##### What technique did you use to handle the imbalance dataset and why? (If needed to be balanced)"
      ],
      "metadata": {
        "id": "TIqpNgepFxVj"
      }
    },
    {
      "cell_type": "markdown",
      "source": [
        "I have used SMOTE (Synthetic Minority Over-sampling technique) for balanced the 85:15 dataset.\n",
        "\n",
        "SMOTE is a technique in machine learning for dealing with issues that arise when working with an unbalanced data set. In practice, unbalanced data sets are common and most ML algorithms are highly prone to unbalanced data so we need to improve their performance by using techniques like SMOTE.\n",
        "\n",
        "To address this disparity, balancing schemes that augment the data to make it more balanced before training the classifier were proposed. Oversampling the minority class by duplicating minority samples or undersampling the majority class is the simplest balancing method.\n",
        "\n",
        "The idea of incorporating synthetic minority samples into tabular data was first proposed in SMOTE, where synthetic minority samples are generated by interpolating pairs of original minority points.\n",
        "\n",
        "SMOTE is a data augmentation algorithm that creates synthetic data points from raw data. SMOTE can be thought of as a more sophisticated version of oversampling or a specific data augmentation algorithm.\n",
        "\n",
        "SMOTE has the advantage of not creating duplicate data points, but rather synthetic data points that differ slightly from the original data points. SMOTE is a superior oversampling option.\n",
        "\n",
        "That's why for lots of advantages, I have used SMOTE technique for balancing the dataset.\n"
      ],
      "metadata": {
        "id": "qbet1HwdGDTz"
      }
    },
    {
      "cell_type": "markdown",
      "source": [
        "## ***7. ML Model Implementation***"
      ],
      "metadata": {
        "id": "VfCC591jGiD4"
      }
    },
    {
      "cell_type": "code",
      "source": [
        "# ML Model - 1 Implementation\n",
        "clf = LogisticRegression(fit_intercept=True, max_iter=10000)\n",
        "# Fit the Algorithm\n",
        "clf.fit(X_train, y_train)"
      ],
      "metadata": {
        "id": "eLI8LdtZQMkQ"
      },
      "execution_count": null,
      "outputs": []
    },
    {
      "cell_type": "code",
      "source": [
        "# Checking the coefficients\n",
        "clf.coef_"
      ],
      "metadata": {
        "id": "hhNXVjtwQMsc"
      },
      "execution_count": null,
      "outputs": []
    },
    {
      "cell_type": "code",
      "source": [
        "# Checking the intercept value\n",
        "clf.intercept_"
      ],
      "metadata": {
        "id": "ecjbMugiQMxL"
      },
      "execution_count": null,
      "outputs": []
    },
    {
      "cell_type": "code",
      "source": [
        "# Predict on the model\n",
        "# Get the predicted probabilities\n",
        "train_preds = clf.predict_proba(X_train)\n",
        "test_preds = clf.predict_proba(X_test)"
      ],
      "metadata": {
        "id": "hXvNWub0QM8r"
      },
      "execution_count": null,
      "outputs": []
    },
    {
      "cell_type": "code",
      "source": [
        "# Get the predicted classes\n",
        "train_class_preds = clf.predict(X_train)\n",
        "test_class_preds = clf.predict(X_test)"
      ],
      "metadata": {
        "id": "Pdkn7HhB03Si"
      },
      "execution_count": null,
      "outputs": []
    },
    {
      "cell_type": "code",
      "source": [
        "# Get the accuracy scores\n",
        "train_accuracy = accuracy_score(train_class_preds,y_train)\n",
        "test_accuracy = accuracy_score(test_class_preds,y_test)\n",
        "\n",
        "print(\"The accuracy on train data is \", train_accuracy)\n",
        "print(\"The accuracy on test data is \", test_accuracy)"
      ],
      "metadata": {
        "id": "7qQ2eqaS03WK"
      },
      "execution_count": null,
      "outputs": []
    },
    {
      "cell_type": "markdown",
      "source": [
        "#### 1. Explain the ML Model used and it's performance using Evaluation metric Score Chart."
      ],
      "metadata": {
        "id": "ArJBuiUVfxKd"
      }
    },
    {
      "cell_type": "code",
      "source": [
        "# Visualizing evaluation Metric Score chart\n",
        "# Get the confusion matrix for both train and test\n",
        "\n",
        "labels = ['Stable', 'Unstable']\n",
        "cm = confusion_matrix(y_train, train_class_preds)\n",
        "print(cm)\n",
        "\n",
        "ax= plt.subplot()\n",
        "sns.heatmap(cm, annot=True, ax = ax) #annot=True to annotate cells\n",
        "\n",
        "# labels, title and ticks\n",
        "ax.set_xlabel('Predicted labels')\n",
        "ax.set_ylabel('True labels')\n",
        "ax.set_title('Confusion Matrix')\n",
        "ax.xaxis.set_ticklabels(labels)\n",
        "ax.yaxis.set_ticklabels(labels)"
      ],
      "metadata": {
        "id": "rqD5ZohzfxKe"
      },
      "execution_count": null,
      "outputs": []
    },
    {
      "cell_type": "code",
      "source": [
        "# Get the confusion matrix for both train and test\n",
        "\n",
        "labels = ['Stable', 'Unstable']\n",
        "cm = confusion_matrix(y_test, test_class_preds)\n",
        "print(cm)\n",
        "\n",
        "ax= plt.subplot()\n",
        "sns.heatmap(cm, annot=True, ax = ax); #annot=True to annotate cells\n",
        "\n",
        "# labels, title and ticks\n",
        "ax.set_xlabel('Predicted labels')\n",
        "ax.set_ylabel('True labels')\n",
        "ax.set_title('Confusion Matrix')\n",
        "ax.xaxis.set_ticklabels(labels)\n",
        "ax.yaxis.set_ticklabels(labels)"
      ],
      "metadata": {
        "id": "JjYsskBy1gZ1"
      },
      "execution_count": null,
      "outputs": []
    },
    {
      "cell_type": "code",
      "source": [
        "print(metrics.classification_report(train_class_preds, y_train))\n",
        "print(\" \")\n",
        "\n",
        "print(\"roc_auc_score\")\n",
        "print(metrics.roc_auc_score(y_train, train_class_preds))"
      ],
      "metadata": {
        "id": "2JJbTjzc1gdG"
      },
      "execution_count": null,
      "outputs": []
    },
    {
      "cell_type": "code",
      "source": [
        "print(metrics.classification_report(test_class_preds, y_test))\n",
        "print(\" \")\n",
        "\n",
        "print(\"roc_auc_score\")\n",
        "print(metrics.roc_auc_score(y_test, test_class_preds))"
      ],
      "metadata": {
        "id": "u7IhG4R51ggk"
      },
      "execution_count": null,
      "outputs": []
    },
    {
      "cell_type": "markdown",
      "source": [
        "I used Logistic regression algorithm to create the model and the results were not good.\n",
        "\n",
        "For training dataset, i found precision of 86% and recall of 88% and f1-score of 87% for stable company data. BUt, I am also interested to see the result for unstable company as I got precision of 88% and recall of 87% and f1-score of 87%. Accuracy is 87% and average percision, recall & f1_score are 87%, 87% and 87% respectively with a roc auc score of 87%.\n",
        "\n",
        "For testing dataset, i found precision of 87% and recall of 99% and f1-score of 93% for stable company data. BUt, I am also interested to see the result for unstable company as I got precision of 83% and recall of 18% and f1-score of 30%. Accuracy is 87% and average percision, recall & f1_score are 85%, 59% and 62% respectively with a roc auc score of 84%.\n",
        "\n",
        "Next tryting to improving the score by using hyperparameter tuning technique.\n"
      ],
      "metadata": {
        "id": "MR1P-t9h4aO6"
      }
    },
    {
      "cell_type": "markdown",
      "source": [
        "#### 2. Cross- Validation & Hyperparameter Tuning"
      ],
      "metadata": {
        "id": "4qY1EAkEfxKe"
      }
    },
    {
      "cell_type": "code",
      "source": [
        "# ML Model - 1 Implementation with hyperparameter optimization techniques (i.e., GridSearch CV, RandomSearch CV, Bayesian Optimization etc.)\n",
        "model = LogisticRegression(max_iter=10000)\n",
        "solvers = ['lbfgs']\n",
        "penalty = ['10','l2','14','16','20','18']\n",
        "c_values = [1000,100, 10, 1.0, 0.1, 0.01,0.001]\n",
        "# define grid search\n",
        "grid = dict(solver=solvers,penalty=penalty,C=c_values)\n",
        "cv = RepeatedStratifiedKFold(n_splits=10, n_repeats=3, random_state=1)\n",
        "grid_search = GridSearchCV(estimator=model, param_grid=grid, n_jobs=-1, cv=cv, scoring='f1',error_score=0)\n",
        "\n",
        "# Fit the Algorithm\n",
        "grid_result=grid_search.fit(X_train, y_train)\n",
        "\n",
        "print(\"Best: %f using %s\" % (grid_result.best_score_, grid_result.best_params_))\n",
        "\n",
        "\n",
        "# Predict on the model\n",
        "# Get the predicted classes\n",
        "train_class_preds = grid_result.predict(X_train)\n",
        "test_class_preds = grid_result.predict(X_test)"
      ],
      "metadata": {
        "id": "Dy61ujd6fxKe"
      },
      "execution_count": null,
      "outputs": []
    },
    {
      "cell_type": "code",
      "source": [
        "print(metrics.classification_report(train_class_preds, y_train))\n",
        "print(\" \")\n",
        "\n",
        "print(\"roc_auc_score\")\n",
        "print(metrics.roc_auc_score(y_train, train_class_preds))"
      ],
      "metadata": {
        "id": "wpnK1ak_Ah5g"
      },
      "execution_count": null,
      "outputs": []
    },
    {
      "cell_type": "code",
      "source": [
        "print(metrics.classification_report(test_class_preds, y_test))\n",
        "print(\" \")\n",
        "\n",
        "print(\"roc_auc_score\")\n",
        "print(metrics.roc_auc_score(y_test, test_class_preds))"
      ],
      "metadata": {
        "id": "0kJ0U-WLAh82"
      },
      "execution_count": null,
      "outputs": []
    },
    {
      "cell_type": "markdown",
      "source": [
        "##### Which hyperparameter optimization technique have you used and why?"
      ],
      "metadata": {
        "id": "PiV4Ypx8fxKe"
      }
    },
    {
      "cell_type": "markdown",
      "source": [
        "GridSearchCV which uses the Grid Search technique for finding the optimal hyperparameters to increase the model performance.\n",
        "\n",
        "our goal should be to find the best hyperparameters values to get the perfect prediction results from our model. But the question arises, how to find these best sets of hyperparameters? One can try the Manual Search method, by using the hit and trial process and can find the best hyperparameters which would take huge time to build a single model.\n",
        "\n",
        "For this reason, methods like Random Search, GridSearch were introduced. Grid Search uses a different combination of all the specified hyperparameters and their values and calculates the performance for each combination and selects the best value for the hyperparameters. This makes the processing time-consuming and expensive based on the number of hyperparameters involved.\n",
        "\n",
        "In GridSearchCV, along with Grid Search, cross-validation is also performed. Cross-Validation is used while training the model.\n",
        "\n",
        "That's why I have used GridsearCV method for hyperparameter optimization.\n"
      ],
      "metadata": {
        "id": "negyGRa7fxKf"
      }
    },
    {
      "cell_type": "markdown",
      "source": [
        "##### Have you seen any improvement? Note down the improvement with updates Evaluation metric Score Chart."
      ],
      "metadata": {
        "id": "TfvqoZmBfxKf"
      }
    },
    {
      "cell_type": "markdown",
      "source": [
        "For training dataset, I found precision of 86% and recall of 88% and f1-score of 87% for Stable companies data. BUt, I am also interested to see the result for unstable companies result as I got precision of 88% and recall of 87% and f1-score of 87%. Accuracy is 87% and average percision, recall & f1_score are 87%, 87% and 87% respectively with a roc auc score of 87%.\n",
        "\n",
        "No improvement seen in Training Dataset.\n",
        "\n",
        "For testing dataset, I found precision of 87% and recall of 99% and f1-score of 93% for Stable company data. BUt, I am also interested to see the result for unstable companies result as I got precision of 83% and recall of 19% and f1-score of 30%. Accuracy is 87% and average percision, recall & f1_score are 85%, 59% and 62% respectively with a roc auc score of 84%.\n",
        "\n",
        "No improvement seen in testing data as well except improvement in f1 score of 1%."
      ],
      "metadata": {
        "id": "OaLui8CcfxKf"
      }
    },
    {
      "cell_type": "markdown",
      "source": [
        "### ML Model - 2 -  Implementing Random Forest Classifier"
      ],
      "metadata": {
        "id": "dJ2tPlVmpsJ0"
      }
    },
    {
      "cell_type": "code",
      "source": [
        "# ML Model - 2 Implementation\n",
        "# Create an instance of the RandomForestClassifier\n",
        "rf_model = RandomForestClassifier()\n",
        "\n",
        "# Fit the Algorithm\n",
        "rf_model.fit(X_train,y_train)\n",
        "\n",
        "# Predict on the model\n",
        "# Making predictions on train and test data\n",
        "train_class_preds = rf_model.predict(X_train)\n",
        "test_class_preds = rf_model.predict(X_test)"
      ],
      "metadata": {
        "id": "yEl-hgQWpsJ1"
      },
      "execution_count": null,
      "outputs": []
    },
    {
      "cell_type": "code",
      "source": [
        "# Calculating accuracy on train and test\n",
        "train_accuracy = accuracy_score(y_train,train_class_preds)\n",
        "test_accuracy = accuracy_score(y_test,test_class_preds)\n",
        "\n",
        "print(\"The accuracy on train dataset is\", train_accuracy)\n",
        "print(\"The accuracy on test dataset is\", test_accuracy)"
      ],
      "metadata": {
        "id": "Zbzz_sMOILuE"
      },
      "execution_count": null,
      "outputs": []
    },
    {
      "cell_type": "markdown",
      "source": [
        "#### 1. Explain the ML Model used and it's performance using Evaluation metric Score Chart."
      ],
      "metadata": {
        "id": "JWYfwnehpsJ1"
      }
    },
    {
      "cell_type": "code",
      "source": [
        "# Visualizing evaluation Metric Score chart#\n",
        "#Get the confusion matrix for both train and test\n",
        "\n",
        "labels = ['Stable', 'Unstable']\n",
        "cm = confusion_matrix(y_train, train_class_preds)\n",
        "print(cm)\n",
        "\n",
        "ax= plt.subplot()\n",
        "sns.heatmap(cm, annot=True, ax = ax) #annot=True to annotate cells\n",
        "\n",
        "# labels, title and ticks\n",
        "ax.set_xlabel('Predicted labels')\n",
        "ax.set_ylabel('True labels')\n",
        "ax.set_title('Confusion Matrix')\n",
        "ax.xaxis.set_ticklabels(labels)\n",
        "ax.yaxis.set_ticklabels(labels)"
      ],
      "metadata": {
        "id": "NhdddSDXILxp"
      },
      "execution_count": null,
      "outputs": []
    },
    {
      "cell_type": "code",
      "source": [
        "# Get the confusion matrix for both train and test\n",
        "\n",
        "labels = ['Stable', 'Unstable']\n",
        "cm = confusion_matrix(y_test, test_class_preds)\n",
        "print(cm)\n",
        "\n",
        "ax= plt.subplot()\n",
        "sns.heatmap(cm, annot=True, ax = ax) #annot=True to annotate cells\n",
        "\n",
        "# labels, title and ticks\n",
        "ax.set_xlabel('Predicted labels')\n",
        "ax.set_ylabel('True labels')\n",
        "ax.set_title('Confusion Matrix')\n",
        "ax.xaxis.set_ticklabels(labels)\n",
        "ax.yaxis.set_ticklabels(labels)"
      ],
      "metadata": {
        "id": "UTCmqgxfIL3B"
      },
      "execution_count": null,
      "outputs": []
    },
    {
      "cell_type": "code",
      "source": [
        "print(metrics.classification_report(train_class_preds, y_train))\n",
        "print(\" \")\n",
        "\n",
        "print(\"roc_auc_score\")\n",
        "print(metrics.roc_auc_score(y_train, train_class_preds))"
      ],
      "metadata": {
        "id": "qvh7h0NKIL4y"
      },
      "execution_count": null,
      "outputs": []
    },
    {
      "cell_type": "code",
      "source": [
        "print(metrics.classification_report(test_class_preds, y_test))\n",
        "print(\" \")\n",
        "\n",
        "print(\"roc_auc_score\")\n",
        "print(metrics.roc_auc_score(y_test, test_class_preds))"
      ],
      "metadata": {
        "id": "8dKd3AFuIL7i"
      },
      "execution_count": null,
      "outputs": []
    },
    {
      "cell_type": "markdown",
      "source": [
        "Then, I used Random Forest algorithm to create the model. As I got there is overfitting seen.\n",
        "\n",
        "For training dataset, i found precision of 100% and recall of 100% and f1-score of 100% for Stable company data. But, I am also interested to see the result for Unstable company result as I got precision of 100% and recall of 100% and f1-score of 100%. Accuracy is 100% and average percision, recall & f1_score are 100%, 100% and 100% respectively with a roc auc score of 100%.\n",
        "\n",
        "For testing dataset, i found precision of 97% and recall of 98% and f1-score of 98% for Stable company data. But, I am also interested to see the result for Unstable company result as I got precision of 57% and recall of 38% and f1-score of 46%. Accuracy is 95% and average percision, recall & f1_score are 77%, 68% and 72% respectively with a roc auc score of 76%.\n",
        "\n",
        "Next trying to improving the score by using hyperparameter tuning technique.\n"
      ],
      "metadata": {
        "id": "ndJrahDJKKgI"
      }
    },
    {
      "cell_type": "code",
      "source": [
        "rf_model.feature_importances_\n"
      ],
      "metadata": {
        "id": "Q_IgSJUNU8XQ"
      },
      "execution_count": null,
      "outputs": []
    },
    {
      "cell_type": "code",
      "source": [
        "explainer = shap.TreeExplainer(rf_model)\n",
        "shap_values = explainer.shap_values(X_test)\n"
      ],
      "metadata": {
        "id": "A9iGWL7fU8bF"
      },
      "execution_count": null,
      "outputs": []
    },
    {
      "cell_type": "code",
      "source": [
        "shap.summary_plot(shap_values, X_test, plot_type=\"bar\")\n"
      ],
      "metadata": {
        "id": "eGACm1i2U8eS"
      },
      "execution_count": null,
      "outputs": []
    },
    {
      "cell_type": "markdown",
      "source": [
        "#### 2. Cross- Validation & Hyperparameter Tuning"
      ],
      "metadata": {
        "id": "-jK_YjpMpsJ2"
      }
    },
    {
      "cell_type": "code",
      "source": [
        "# ML Model - 2 Implementation with hyperparameter optimization techniques (i.e., GridSearch CV, RandomSearch CV, Bayesian Optimization etc.)\n",
        "# Number of trees\n",
        "n_estimators = [50,80,100]\n",
        "\n",
        "# Maximum depth of trees\n",
        "max_depth = [4,6,8]\n",
        "\n",
        "# Minimum number of samples required to split a node\n",
        "min_samples_split = [50,100,150]\n",
        "\n",
        "# Minimum number of samples required at each leaf node\n",
        "min_samples_leaf = [40,50]\n",
        "\n",
        "# HYperparameter Grid\n",
        "param_dict = {'n_estimators' : n_estimators,\n",
        "              'max_depth' : max_depth,\n",
        "              'min_samples_split' : min_samples_split,\n",
        "              'min_samples_leaf' : min_samples_leaf}\n",
        "\n",
        "# Create an instance of the RandomForestClassifier\n",
        "rf_model = RandomForestClassifier()\n",
        "\n",
        "# Grid search\n",
        "rf_grid = GridSearchCV(estimator=rf_model,\n",
        "                       param_grid = param_dict,\n",
        "                       cv = 5, verbose=2, scoring='f1')\n",
        "\n",
        "\n",
        "# Fit the Algorithm\n",
        "rf_grid.fit(X_train,y_train)\n",
        "\n",
        "\n",
        "\n",
        "# Predict on the model\n",
        "# Making predictions on train and test data\n",
        "train_class_preds = rf_grid.predict(X_train)\n",
        "test_class_preds = rf_grid.predict(X_test)\n"
      ],
      "metadata": {
        "id": "Dn0EOfS6psJ2"
      },
      "execution_count": null,
      "outputs": []
    },
    {
      "cell_type": "code",
      "source": [
        "print(\"Best: %f using %s\" % (rf_grid.best_score_, rf_grid.best_params_))"
      ],
      "metadata": {
        "id": "VyaW3VUFclhn"
      },
      "execution_count": null,
      "outputs": []
    },
    {
      "cell_type": "code",
      "source": [
        "# Visualizing evaluation Metric Score chart# Get the confusion matrix for both train and test\n",
        "\n",
        "labels = ['Stable', 'Unstable']\n",
        "cm = confusion_matrix(y_train, train_class_preds)\n",
        "print(cm)\n",
        "\n",
        "ax= plt.subplot()\n",
        "sns.heatmap(cm, annot=True, ax = ax) #annot=True to annotate cells\n",
        "\n",
        "# labels, title and ticks\n",
        "ax.set_xlabel('Predicted labels')\n",
        "ax.set_ylabel('True labels')\n",
        "ax.set_title('Confusion Matrix')\n",
        "ax.xaxis.set_ticklabels(labels)\n",
        "ax.yaxis.set_ticklabels(labels)"
      ],
      "metadata": {
        "id": "tPjJ6ERIclmF"
      },
      "execution_count": null,
      "outputs": []
    },
    {
      "cell_type": "code",
      "source": [
        "# Get the confusion matrix for both train and test\n",
        "\n",
        "labels = ['Stable', 'Unstable']\n",
        "cm = confusion_matrix(y_test, test_class_preds)\n",
        "print(cm)\n",
        "\n",
        "ax= plt.subplot()\n",
        "sns.heatmap(cm, annot=True, ax = ax) #annot=True to annotate cells\n",
        "\n",
        "# labels, title and ticks\n",
        "ax.set_xlabel('Predicted labels')\n",
        "ax.set_ylabel('True labels')\n",
        "ax.set_title('Confusion Matrix')\n",
        "ax.xaxis.set_ticklabels(labels)\n",
        "ax.yaxis.set_ticklabels(labels)"
      ],
      "metadata": {
        "id": "p39Fbi-CclpZ"
      },
      "execution_count": null,
      "outputs": []
    },
    {
      "cell_type": "code",
      "source": [
        "print(metrics.classification_report(train_class_preds, y_train))\n",
        "print(\" \")\n",
        "\n",
        "print(\"roc_auc_score\")\n",
        "print(metrics.roc_auc_score(y_train, train_class_preds))"
      ],
      "metadata": {
        "id": "x-F-co_zc1BG"
      },
      "execution_count": null,
      "outputs": []
    },
    {
      "cell_type": "code",
      "source": [
        "# Hypertuned Random Forest\n",
        "print(metrics.classification_report(test_class_preds, y_test))\n",
        "print(\" \")\n",
        "\n",
        "print(\"roc_auc_score\")\n",
        "print(metrics.roc_auc_score(y_test, test_class_preds))"
      ],
      "metadata": {
        "id": "_DVOqa5qc1FU"
      },
      "execution_count": null,
      "outputs": []
    },
    {
      "cell_type": "markdown",
      "source": [
        "##### Which hyperparameter optimization technique have you used and why?"
      ],
      "metadata": {
        "id": "HAih1iBOpsJ2"
      }
    },
    {
      "cell_type": "markdown",
      "source": [
        "GridSearchCV which uses the Grid Search technique for finding the optimal hyperparameters to increase the model performance.\n",
        "\n",
        "our goal should be to find the best hyperparameters values to get the perfect prediction results from our model. But the question arises, how to find these best sets of hyperparameters? One can try the Manual Search method, by using the hit and trial process and can find the best hyperparameters which would take huge time to build a single model.\n",
        "\n",
        "For this reason, methods like Random Search, GridSearch were introduced. Grid Search uses a different combination of all the specified hyperparameters and their values and calculates the performance for each combination and selects the best value for the hyperparameters. This makes the processing time-consuming and expensive based on the number of hyperparameters involved.\n",
        "\n",
        "In GridSearchCV, along with Grid Search, cross-validation is also performed. Cross-Validation is used while training the model.\n",
        "\n",
        "That's why I have used GridsearCV method for hyperparameter optimization.\n"
      ],
      "metadata": {
        "id": "9kBgjYcdpsJ2"
      }
    },
    {
      "cell_type": "markdown",
      "source": [
        "##### Have you seen any improvement? Note down the improvement with updates Evaluation metric Score Chart."
      ],
      "metadata": {
        "id": "zVGeBEFhpsJ2"
      }
    },
    {
      "cell_type": "markdown",
      "source": [
        "For training dataset, I found precision of 90% and recall of 96% and f1-score of 93% for stable company data. But, I am also interested to see the result for unstable company result as I got precision of 96% and recall of 91% and f1-score of 94%. Accuracy is 93% and average percision, recall & f1_score are 93%, 94% and 93% respectively with a roc auc score of 93%.\n",
        "\n",
        "Quite improvment seen as no overfitting but the scores reduced by some percentages.\n",
        "\n",
        "For testing dataset, I found precision of 90% and recall of 99% and f1-score of 95% for stable company data. But, I am also interested to see the result for unstable company result as I got precision of 85% and recall of 24% and f1-score of 37%. Accuracy is 90% and average percision, recall & f1_score are 88%, 62% and 66% respectively with a roc auc score of 87%.\n",
        "\n",
        "Good improvement in precision, 1 % improvement in  stable company recall and roc auc score but rest scores have decreased.\n"
      ],
      "metadata": {
        "id": "74yRdG6UpsJ3"
      }
    },
    {
      "cell_type": "markdown",
      "source": [
        "#### 3. Explain each evaluation metric's indication towards business and the business impact pf the ML model used."
      ],
      "metadata": {
        "id": "bmKjuQ-FpsJ3"
      }
    },
    {
      "cell_type": "markdown",
      "source": [
        "I would like to go with both Recall and Precision and which describes both is F1 Score.\n",
        "\n",
        "To reduce false negative recall is important and to reduce false positives precision is important. Where both are important to be minimized, f1_score is being considered. False Positive is defined as the model predicted that the company is unstable but it was stable. But according to our model it is unstable, there would be quite chance of the unstability not for immediate but after some times. So, for those type of companies we can protect them from going bankrupt by improving some metrics. Again false negative defines as model will predict that the companies won't bankrupt but they did. That will be an issue for us. So, for that case we have to minimize the false negative, and false positive we must improve the score of both precision as well as recall which should directly affect the f1_score positively. So, in our case recall will stand the higher but precision can't be neglected. so, recall should be higher and f1_score should be moderate."
      ],
      "metadata": {
        "id": "BDKtOrBQpsJ3"
      }
    },
    {
      "cell_type": "markdown",
      "source": [
        "### ML Model - 3 - Implementing XgBoost Classifier"
      ],
      "metadata": {
        "id": "Fze-IPXLpx6K"
      }
    },
    {
      "cell_type": "code",
      "source": [
        "# ML Model - 3 Implementation\n",
        "# Create an instance of the RandomForestClassifier\n",
        "xg_model = XGBClassifier()\n",
        "\n",
        "# Fit the Algorithm\n",
        "xg_models=xg_model.fit(X_train,y_train)\n",
        "\n",
        "# Predict on the model\n",
        "# Making predictions on train and test data\n",
        "\n",
        "train_class_preds = xg_models.predict(X_train)\n",
        "test_class_preds = xg_models.predict(X_test)"
      ],
      "metadata": {
        "id": "FFrSXAtrpx6M"
      },
      "execution_count": null,
      "outputs": []
    },
    {
      "cell_type": "markdown",
      "source": [
        "#### 1. Explain the ML Model used and it's performance using Evaluation metric Score Chart."
      ],
      "metadata": {
        "id": "7AN1z2sKpx6M"
      }
    },
    {
      "cell_type": "code",
      "source": [
        "# Visualizing evaluation Metric Score chart\n",
        "# Visualizing evaluation Metric Score chart# Get the confusion matrix for both train and test\n",
        "\n",
        "labels = ['Stable', 'Unstable']\n",
        "cm = confusion_matrix(y_train, train_class_preds)\n",
        "print(cm)\n",
        "\n",
        "ax= plt.subplot()\n",
        "sns.heatmap(cm, annot=True, ax = ax) #annot=True to annotate cells\n",
        "\n",
        "# labels, title and ticks\n",
        "ax.set_xlabel('Predicted labels')\n",
        "ax.set_ylabel('True labels')\n",
        "ax.set_title('Confusion Matrix')\n",
        "ax.xaxis.set_ticklabels(labels)\n",
        "ax.yaxis.set_ticklabels(labels)"
      ],
      "metadata": {
        "id": "xIY4lxxGpx6M"
      },
      "execution_count": null,
      "outputs": []
    },
    {
      "cell_type": "code",
      "source": [
        "# Get the confusion matrix for both train and test\n",
        "\n",
        "labels = ['Stable', 'Unstable']\n",
        "cm = confusion_matrix(y_test, test_class_preds)\n",
        "print(cm)\n",
        "\n",
        "ax= plt.subplot()\n",
        "sns.heatmap(cm, annot=True, ax = ax) #annot=True to annotate cells\n",
        "\n",
        "# labels, title and ticks\n",
        "ax.set_xlabel('Predicted labels')\n",
        "ax.set_ylabel('True labels')\n",
        "ax.set_title('Confusion Matrix')\n",
        "ax.xaxis.set_ticklabels(labels)\n",
        "ax.yaxis.set_ticklabels(labels)"
      ],
      "metadata": {
        "id": "UO5Y4Rndkdkr"
      },
      "execution_count": null,
      "outputs": []
    },
    {
      "cell_type": "code",
      "source": [
        "print(metrics.classification_report(train_class_preds, y_train))\n",
        "print(\" \")\n",
        "\n",
        "print(\"roc_auc_score\")\n",
        "print(metrics.roc_auc_score(y_train, train_class_preds))"
      ],
      "metadata": {
        "id": "hb_tM7SWkdot"
      },
      "execution_count": null,
      "outputs": []
    },
    {
      "cell_type": "code",
      "source": [
        "print(metrics.classification_report(test_class_preds, y_test))\n",
        "print(\" \")\n",
        "\n",
        "print(\"roc_auc_score\")\n",
        "print(metrics.roc_auc_score(y_test, test_class_preds))"
      ],
      "metadata": {
        "id": "F2L8ceBSkduA"
      },
      "execution_count": null,
      "outputs": []
    },
    {
      "cell_type": "markdown",
      "source": [
        "Then, I used XGBoost algorithm to create the model. As I got there good result.\n",
        "\n",
        "For training dataset, I found precision of 91% and recall of 97% and f1-score of 94% for stable company data. But, I am also interested to see the result for unstable comapanies as I got precision of 97% and recall of 91% and f1-score of 94%. Accuracy is 94% and average precision, recall & f1_score are 94%, 94% and 94% respectively with a roc auc score of 93%.\n",
        "\n",
        "For testing dataset, I found precision of 90% and recall of 99% and f1-score of 94% for stable company data. But, I am also interested to see the result for unstable comapnies as I got precision of 83% and recall of 22% and f1-score of 35%. Accuracy is 90% and average precision, recall & f1_score are 86%, 61% and 65% respectively with a roc auc score of 86%.\n",
        "\n",
        "Next trying to improving the score by using hyperparameter tuning technique.\n"
      ],
      "metadata": {
        "id": "8bBOEkRQlCEb"
      }
    },
    {
      "cell_type": "code",
      "source": [
        "explainer = shap.TreeExplainer(xg_model)\n",
        "shap_values = explainer.shap_values(X_test)\n"
      ],
      "metadata": {
        "id": "3HYyTN62pdIn"
      },
      "execution_count": null,
      "outputs": []
    },
    {
      "cell_type": "code",
      "source": [
        "shap.summary_plot(shap_values, X_test, plot_type=\"bar\")\n"
      ],
      "metadata": {
        "id": "ttpUPnxEpdMK"
      },
      "execution_count": null,
      "outputs": []
    },
    {
      "cell_type": "markdown",
      "source": [
        "#### 2. Cross- Validation & Hyperparameter Tuning"
      ],
      "metadata": {
        "id": "9PIHJqyupx6M"
      }
    },
    {
      "cell_type": "code",
      "source": [
        "# ML Model - 3 Implementation with hyperparameter optimization techniques (i.e., GridSearch CV, RandomSearch CV, Bayesian Optimization etc.)\n",
        "# Number of trees\n",
        "n_estimators = [50,80,100]\n",
        "\n",
        "# Maximum depth of trees\n",
        "max_depth = [4,6,8]\n",
        "\n",
        "# Minimum number of samples required to split a node\n",
        "min_samples_split = [50,100,150]\n",
        "\n",
        "# Minimum number of samples required at each leaf node\n",
        "min_samples_leaf = [40,50]\n",
        "\n",
        "# HYperparameter Grid\n",
        "param_dict = {'n_estimators' : n_estimators,\n",
        "              'max_depth' : max_depth,\n",
        "              'min_samples_split' : min_samples_split,\n",
        "              'min_samples_leaf' : min_samples_leaf}\n",
        "\n",
        "# Create an instance of the RandomForestClassifier\n",
        "xg_model = XGBClassifier()\n",
        "\n",
        "# Fit the Algorithm\n",
        "# Grid search\n",
        "xg_grid = GridSearchCV(estimator=xg_model,\n",
        "                       param_grid = param_dict,\n",
        "                       cv = 5, verbose=2, scoring='roc_auc')\n",
        "\n",
        "xg_grid1=xg_grid.fit(X_train,y_train)\n",
        "# Predict on the model\n",
        "# Making predictions on train and test data\n",
        "\n",
        "train_class_preds = xg_grid1.predict(X_train)\n",
        "test_class_preds = xg_grid1.predict(X_test)"
      ],
      "metadata": {
        "id": "eSVXuaSKpx6M"
      },
      "execution_count": null,
      "outputs": []
    },
    {
      "cell_type": "code",
      "source": [
        "print(\"Best: %f using %s\" % (xg_grid.best_score_, xg_grid.best_params_))"
      ],
      "metadata": {
        "id": "2EmmhDtdqBMA"
      },
      "execution_count": null,
      "outputs": []
    },
    {
      "cell_type": "code",
      "source": [
        "# Visualizing evaluation Metric Score chart\n",
        "# Visualizing evaluation Metric Score chart# Get the confusion matrix for both train and test\n",
        "\n",
        "labels = ['Stable', 'Unstable']\n",
        "cm = confusion_matrix(y_train, train_class_preds)\n",
        "print(cm)\n",
        "\n",
        "ax= plt.subplot()\n",
        "sns.heatmap(cm, annot=True, ax = ax) #annot=True to annotate cells\n",
        "\n",
        "# labels, title and ticks\n",
        "ax.set_xlabel('Predicted labels')\n",
        "ax.set_ylabel('True labels')\n",
        "ax.set_title('Confusion Matrix')\n",
        "ax.xaxis.set_ticklabels(labels)\n",
        "ax.yaxis.set_ticklabels(labels)"
      ],
      "metadata": {
        "id": "liHim49FqBPU"
      },
      "execution_count": null,
      "outputs": []
    },
    {
      "cell_type": "code",
      "source": [
        "# Get the confusion matrix for both train and test\n",
        "\n",
        "labels = ['Stable', 'Unstable']\n",
        "cm = confusion_matrix(y_test, test_class_preds)\n",
        "print(cm)\n",
        "\n",
        "ax= plt.subplot()\n",
        "sns.heatmap(cm, annot=True, ax = ax) #annot=True to annotate cells\n",
        "\n",
        "# labels, title and ticks\n",
        "ax.set_xlabel('Predicted labels')\n",
        "ax.set_ylabel('True labels')\n",
        "ax.set_title('Confusion Matrix')\n",
        "ax.xaxis.set_ticklabels(labels)\n",
        "ax.yaxis.set_ticklabels(labels)"
      ],
      "metadata": {
        "id": "aYbdCfMVqBRA"
      },
      "execution_count": null,
      "outputs": []
    },
    {
      "cell_type": "code",
      "source": [
        "print(metrics.classification_report(train_class_preds, y_train))\n",
        "print(\" \")\n",
        "\n",
        "print(\"roc_auc_score\")\n",
        "print(metrics.roc_auc_score(y_train, train_class_preds))"
      ],
      "metadata": {
        "id": "Vll4emhBqBUs"
      },
      "execution_count": null,
      "outputs": []
    },
    {
      "cell_type": "code",
      "source": [
        "#Hypertuned XGB\n",
        "\n",
        "print(metrics.classification_report(test_class_preds, y_test))\n",
        "print(\" \")\n",
        "\n",
        "print(\"roc_auc_score\")\n",
        "print(metrics.roc_auc_score(y_test, test_class_preds))"
      ],
      "metadata": {
        "id": "hZMNhsG8qBWO"
      },
      "execution_count": null,
      "outputs": []
    },
    {
      "cell_type": "markdown",
      "source": [
        "##### Which hyperparameter optimization technique have you used and why?"
      ],
      "metadata": {
        "id": "_-qAgymDpx6N"
      }
    },
    {
      "cell_type": "markdown",
      "source": [
        "GridSearchCV which uses the Grid Search technique for finding the optimal hyperparameters to increase the model performance.\n",
        "\n",
        "our goal should be to find the best hyperparameters values to get the perfect prediction results from our model. But the question arises, how to find these best sets of hyperparameters? One can try the Manual Search method, by using the hit and trial process and can find the best hyperparameters which would take huge time to build a single model.\n",
        "\n",
        "For this reason, methods like Random Search, GridSearch were introduced. Grid Search uses a different combination of all the specified hyperparameters and their values and calculates the performance for each combination and selects the best value for the hyperparameters. This makes the processing time-consuming and expensive based on the number of hyperparameters involved.\n",
        "\n",
        "In GridSearchCV, along with Grid Search, cross-validation is also performed. Cross-Validation is used while training the model.\n",
        "\n",
        "That's why I have used GridsearCV method for hyperparameter optimization.\n"
      ],
      "metadata": {
        "id": "lQMffxkwpx6N"
      }
    },
    {
      "cell_type": "markdown",
      "source": [
        "##### Have you seen any improvement? Note down the improvement with updates Evaluation metric Score Chart."
      ],
      "metadata": {
        "id": "Z-hykwinpx6N"
      }
    },
    {
      "cell_type": "markdown",
      "source": [
        "For training dataset, i found precision of 100% and recall of 100% and f1-score of 100% for stable company data. BUt, I am also interested to see the result for unstable company result as I got precision of 100% and recall of 100% and f1-score of 100%. Accuracy is 100% and average percision, recall & f1_score are 100%, 100% and 100% respectively with a roc auc score of 99%.\n",
        "\n",
        "Overfitting is seen after grid search.\n",
        "\n",
        "For testing dataset, I found precision of 96% and recall of 98% and f1-score of 97% for stable company data. But, I am also interested to see the result for unstable company as I got precision of 50% and recall of 32% and f1-score of 39%. Accuracy is 95% and average percision, recall & f1_score are 73%, 65% and 68% respectively with a roc auc score of 73%.\n",
        "\n",
        "4% improvement in recall 3% increase in f1 score rest scores have reduced."
      ],
      "metadata": {
        "id": "MzVzZC6opx6N"
      }
    },
    {
      "cell_type": "markdown",
      "source": [
        "#### Model 4 - Decision Tree Classifier "
      ],
      "metadata": {
        "id": "gOQdGRNOqalL"
      }
    },
    {
      "cell_type": "code",
      "source": [
        "# ML Model - 4 Implementation\n",
        "# Create an instance of the DecisionTree Classifier \t\n",
        "dt_model = DecisionTreeClassifier()\n",
        "\n",
        "# Fit the Algorithm\n",
        "dt_model=dt_model.fit(X_train,y_train)\n",
        "\n",
        "# Predict on the model\n",
        "# Making predictions on train and test data\n",
        "\n",
        "train_class_preds = dt_model.predict(X_train)\n",
        "test_class_preds = dt_model.predict(X_test)"
      ],
      "metadata": {
        "id": "1fh6HwUZqZjn"
      },
      "execution_count": null,
      "outputs": []
    },
    {
      "cell_type": "markdown",
      "source": [
        "#### 1. Explain the ML Model used and it's performance using Evaluation metric Score Chart."
      ],
      "metadata": {
        "id": "6bFv_mXR3HpJ"
      }
    },
    {
      "cell_type": "code",
      "source": [
        "#Visualizing evaluation Metric Score chart\n",
        "# Visualizing evaluation Metric Score chart# Get the confusion matrix for both train and test\n",
        "\n",
        "labels = ['Stable', 'Unstable']\n",
        "cm = confusion_matrix(y_train, train_class_preds)\n",
        "print(cm)\n",
        "\n",
        "ax= plt.subplot()\n",
        "sns.heatmap(cm, annot=True, ax = ax) #annot=True to annotate cells\n",
        "\n",
        "# labels, title and ticks\n",
        "ax.set_xlabel('Predicted labels')\n",
        "ax.set_ylabel('True labels')\n",
        "ax.set_title('Confusion Matrix')\n",
        "ax.xaxis.set_ticklabels(labels)\n",
        "ax.yaxis.set_ticklabels(labels)"
      ],
      "metadata": {
        "id": "s8JUijza2_jN"
      },
      "execution_count": null,
      "outputs": []
    },
    {
      "cell_type": "code",
      "source": [
        "# Get the confusion matrix for both train and test\n",
        "\n",
        "labels = ['Stable', 'Unstable']\n",
        "cm = confusion_matrix(y_test, test_class_preds)\n",
        "print(cm)\n",
        "\n",
        "ax= plt.subplot()\n",
        "sns.heatmap(cm, annot=True, ax = ax) #annot=True to annotate cells\n",
        "\n",
        "# labels, title and ticks\n",
        "ax.set_xlabel('Predicted labels')\n",
        "ax.set_ylabel('True labels')\n",
        "ax.set_title('Confusion Matrix')\n",
        "ax.xaxis.set_ticklabels(labels)\n",
        "ax.yaxis.set_ticklabels(labels)"
      ],
      "metadata": {
        "id": "rOnchPdK2_mQ"
      },
      "execution_count": null,
      "outputs": []
    },
    {
      "cell_type": "code",
      "source": [
        "print(metrics.classification_report(train_class_preds, y_train))\n",
        "print(\" \")\n",
        "\n",
        "print(\"roc_auc_score\")\n",
        "print(metrics.roc_auc_score(y_train, train_class_preds))"
      ],
      "metadata": {
        "id": "Wb4xDU272_pg"
      },
      "execution_count": null,
      "outputs": []
    },
    {
      "cell_type": "code",
      "source": [
        "print(metrics.classification_report(test_class_preds, y_test))\n",
        "print(\" \")\n",
        "\n",
        "print(\"roc_auc_score\")\n",
        "print(metrics.roc_auc_score(y_test, test_class_preds))"
      ],
      "metadata": {
        "id": "Wpcp-T8_2_tD"
      },
      "execution_count": null,
      "outputs": []
    },
    {
      "cell_type": "markdown",
      "source": [
        "Then, I used Decsion Tree algorithm to create the model. overfitting in training data was seen.\n",
        "\n",
        "For training dataset, I found precision of 100% and recall of 100% and f1-score of 100% for stable company data. But, I am also interested to see the result for unstable company data as I got precision of 100% and recall of 100% and f1-score of 100%. Accuracy is 100% and average percision, recall & f1_score are 100%, 100% and 100% respectively with a roc auc score of 100%.\n",
        "\n",
        "For testing dataset, I found precision of 94% and recall of 98% and f1-score of 96% for stable company data. But, I am also interested to see the result for Churning cutomer result as I got precision of 48% and recall of 23% and f1-score of 31%. Accuracy is 93% and average percision, recall & f1_score are 71%, 61% and 64% respectively with a roc auc score of 71%.\n",
        "\n",
        "Next tryting to improving the score by using hyperparameter tuning technique.\n"
      ],
      "metadata": {
        "id": "Huck8Jg33wnU"
      }
    },
    {
      "cell_type": "code",
      "source": [
        "explainer = shap.TreeExplainer(dt_model)\n",
        "shap_values = explainer.shap_values(X_test)\n"
      ],
      "metadata": {
        "id": "YgIjVeHH2_uv"
      },
      "execution_count": null,
      "outputs": []
    },
    {
      "cell_type": "code",
      "source": [
        "shap.summary_plot(shap_values, X_test, plot_type=\"bar\")\n"
      ],
      "metadata": {
        "id": "NUzQ6N-C2_xZ"
      },
      "execution_count": null,
      "outputs": []
    },
    {
      "cell_type": "markdown",
      "source": [
        "2. Cross- Validation & Hyperparameter Tuning"
      ],
      "metadata": {
        "id": "1twqfDXv4DKJ"
      }
    },
    {
      "cell_type": "code",
      "source": [
        "# ML Model - 3 Implementation with hyperparameter optimization techniques (i.e., GridSearch CV, RandomSearch CV, Bayesian Optimization etc.)\n",
        "\n",
        "\n",
        "# HYperparameter Grid\n",
        "param_dict = {'max_features': ['auto', 'sqrt', 'log2'],\n",
        "              'ccp_alpha': [0.1, .01, .001],\n",
        "              'max_depth' : [5, 6, 7, 8, 9],\n",
        "              'criterion' :['gini', 'entropy']\n",
        "             }\n",
        "# Create an instance of the RandomForestClassifier\n",
        "dt_model = DecisionTreeClassifier()\n",
        "\n",
        "# Fit the Algorithm\n",
        "# Grid search\n",
        "dt_grid = GridSearchCV(estimator=dt_model,\n",
        "                       param_grid = param_dict,\n",
        "                       cv = 5, verbose=2)\n",
        "\n",
        "dt_grid1=dt_grid.fit(X_train,y_train)\n",
        "# Predict on the model\n",
        "# Making predictions on train and test data\n",
        "\n",
        "train_class_preds = dt_grid1.predict(X_train)\n",
        "test_class_preds = dt_grid1.predict(X_test)"
      ],
      "metadata": {
        "id": "bNZhFJ6-2_00"
      },
      "execution_count": null,
      "outputs": []
    },
    {
      "cell_type": "code",
      "source": [
        "print(\"Best: %f using %s\" % (dt_grid.best_score_, dt_grid.best_params_))"
      ],
      "metadata": {
        "id": "YMSktwUf2_4d"
      },
      "execution_count": null,
      "outputs": []
    },
    {
      "cell_type": "code",
      "source": [
        "# Visualizing evaluation Metric Score chart\n",
        "# Visualizing evaluation Metric Score chart# Get the confusion matrix for both train and test\n",
        "\n",
        "labels = ['Stable', 'Unstable']\n",
        "cm = confusion_matrix(y_train, train_class_preds)\n",
        "print(cm)\n",
        "\n",
        "ax= plt.subplot()\n",
        "sns.heatmap(cm, annot=True, ax = ax) #annot=True to annotate cells\n",
        "\n",
        "# labels, title and ticks\n",
        "ax.set_xlabel('Predicted labels')\n",
        "ax.set_ylabel('True labels')\n",
        "ax.set_title('Confusion Matrix')\n",
        "ax.xaxis.set_ticklabels(labels)\n",
        "ax.yaxis.set_ticklabels(labels)"
      ],
      "metadata": {
        "id": "zg9c1hOb2_7S"
      },
      "execution_count": null,
      "outputs": []
    },
    {
      "cell_type": "code",
      "source": [
        "# Get the confusion matrix for both train and test\n",
        "\n",
        "labels = ['Stable', 'Unstable']\n",
        "cm = confusion_matrix(y_test, test_class_preds)\n",
        "print(cm)\n",
        "\n",
        "ax= plt.subplot()\n",
        "sns.heatmap(cm, annot=True, ax = ax) #annot=True to annotate cells\n",
        "\n",
        "# labels, title and ticks\n",
        "ax.set_xlabel('Predicted labels')\n",
        "ax.set_ylabel('True labels')\n",
        "ax.set_title('Confusion Matrix')\n",
        "ax.xaxis.set_ticklabels(labels)\n",
        "ax.yaxis.set_ticklabels(labels)"
      ],
      "metadata": {
        "id": "sT_I9qPn_L9Y"
      },
      "execution_count": null,
      "outputs": []
    },
    {
      "cell_type": "code",
      "source": [
        "print(metrics.classification_report(train_class_preds, y_train))\n",
        "print(\" \")\n",
        "\n",
        "print(\"roc_auc_score\")\n",
        "print(metrics.roc_auc_score(y_train, train_class_preds))"
      ],
      "metadata": {
        "id": "-zq_cuDlA9qX"
      },
      "execution_count": null,
      "outputs": []
    },
    {
      "cell_type": "code",
      "source": [
        "print(metrics.classification_report(test_class_preds, y_test))\n",
        "print(\" \")\n",
        "\n",
        "print(\"roc_auc_score\")\n",
        "print(metrics.roc_auc_score(y_test, test_class_preds))"
      ],
      "metadata": {
        "id": "uH_4utHSA9vy"
      },
      "execution_count": null,
      "outputs": []
    },
    {
      "cell_type": "markdown",
      "source": [
        "# Which hyperparameter optimization technique have you used and why?"
      ],
      "metadata": {
        "id": "iWgtrs0YBLEW"
      }
    },
    {
      "cell_type": "markdown",
      "source": [
        "GridSearchCV which uses the Grid Search technique for finding the optimal hyperparameters to increase the model performance.\n",
        "\n",
        "our goal should be to find the best hyperparameters values to get the perfect prediction results from our model. But the question arises, how to find these best sets of hyperparameters? One can try the Manual Search method, by using the hit and trial process and can find the best hyperparameters which would take huge time to build a single model.\n",
        "\n",
        "For this reason, methods like Random Search, GridSearch were introduced. Grid Search uses a different combination of all the specified hyperparameters and their values and calculates the performance for each combination and selects the best value for the hyperparameters. This makes the processing time-consuming and expensive based on the number of hyperparameters involved.\n",
        "\n",
        "In GridSearchCV, along with Grid Search, cross-validation is also performed. Cross-Validation is used while training the model.\n",
        "\n",
        "That's why I have used GridsearCV method for hyperparameter optimization.\n"
      ],
      "metadata": {
        "id": "GN6EDQAQBP5A"
      }
    },
    {
      "cell_type": "markdown",
      "source": [
        "# Have you seen any improvement? Note down the improvement with updates Evaluation metric Score Chart."
      ],
      "metadata": {
        "id": "KQEYsUIwBfPU"
      }
    },
    {
      "cell_type": "markdown",
      "source": [
        "For training dataset, I found precision of 90% and recall of 98% and f1-score of 94% for stable company data. But, I am also interested to see the result for Churning cutomer result as I got precision of 98% and recall of 91% and f1-score of 94%. Accuracy is 94% and average precision, recall & f1_score are 94%, 94% and 94% respectively with a roc auc score of 94%.\n",
        "\n",
        "Improvement as no overfitting was seen.\n",
        "\n",
        "For testing dataset, i found precision of 89% and recall of 99% and f1-score of 94% for stable company data. But, I am also interested to see the result for unstable company result as I got precision of 74% and recall of 19% and f1-score of 30%. Accuracy is 88% and average precision, recall & f1_score are\n",
        "81%, 59% and 62% respectively with a roc auc score of 81%.\n",
        "\n",
        "Quite improvemnt in precision and roc auc score, 2 % increase in recall score."
      ],
      "metadata": {
        "id": "BjsrSkNbBml3"
      }
    },
    {
      "cell_type": "markdown",
      "source": [
        "# ML Model - 5 - Implementing K-Nearest Neighbour"
      ],
      "metadata": {
        "id": "L-6r0MC_B8Vl"
      }
    },
    {
      "cell_type": "code",
      "source": [
        "# ML Model - 5 Implementation\n",
        "# Create an instance of the RandomForestClassifier\n",
        "k_model = KNeighborsClassifier()\n",
        "\n",
        "# Fit the Algorithm\n",
        "k_models=k_model.fit(X_train,y_train)\n",
        "\n",
        "# Predict on the model\n",
        "# Making predictions on train and test data\n",
        "\n",
        "train_class_preds = k_models.predict(X_train)\n",
        "test_class_preds = k_models.predict(X_test)"
      ],
      "metadata": {
        "id": "2rCWA255CK4l"
      },
      "execution_count": null,
      "outputs": []
    },
    {
      "cell_type": "markdown",
      "source": [
        "#  Explain the ML Model used and it's performance using Evaluation metric Score Chart."
      ],
      "metadata": {
        "id": "zX4b9kwyDD_T"
      }
    },
    {
      "cell_type": "code",
      "source": [
        "# Visualizing evaluation Metric Score chart\n",
        "# Visualizing evaluation Metric Score chart# Get the confusion matrix for both train and test\n",
        "\n",
        "labels = ['Stable', 'Unstable']\n",
        "cm = confusion_matrix(y_train, train_class_preds)\n",
        "print(cm)\n",
        "\n",
        "ax= plt.subplot()\n",
        "sns.heatmap(cm, annot=True, ax = ax) #annot=True to annotate cells\n",
        "\n",
        "# labels, title and ticks\n",
        "ax.set_xlabel('Predicted labels')\n",
        "ax.set_ylabel('True labels')\n",
        "ax.set_title('Confusion Matrix')\n",
        "ax.xaxis.set_ticklabels(labels)\n",
        "ax.yaxis.set_ticklabels(labels)"
      ],
      "metadata": {
        "id": "2pzcLefICK-K"
      },
      "execution_count": null,
      "outputs": []
    },
    {
      "cell_type": "code",
      "source": [
        "# Get the confusion matrix for both train and test\n",
        "\n",
        "labels = ['Stable', 'Unstable']\n",
        "cm = confusion_matrix(y_test, test_class_preds)\n",
        "print(cm)\n",
        "\n",
        "ax= plt.subplot()\n",
        "sns.heatmap(cm, annot=True, ax = ax) #annot=True to annotate cells\n",
        "\n",
        "# labels, title and ticks\n",
        "ax.set_xlabel('Predicted labels')\n",
        "ax.set_ylabel('True labels')\n",
        "ax.set_title('Confusion Matrix')\n",
        "ax.xaxis.set_ticklabels(labels)\n",
        "ax.yaxis.set_ticklabels(labels)"
      ],
      "metadata": {
        "id": "ApkLtUSTCLAT"
      },
      "execution_count": null,
      "outputs": []
    },
    {
      "cell_type": "code",
      "source": [
        "print(metrics.classification_report(train_class_preds, y_train))\n",
        "print(\" \")\n",
        "\n",
        "print(\"roc_auc_score\")\n",
        "print(metrics.roc_auc_score(y_train, train_class_preds))"
      ],
      "metadata": {
        "id": "Br6vTSqrCLB_"
      },
      "execution_count": null,
      "outputs": []
    },
    {
      "cell_type": "code",
      "source": [
        "print(metrics.classification_report(test_class_preds, y_test))\n",
        "print(\" \")\n",
        "\n",
        "print(\"roc_auc_score\")\n",
        "print(metrics.roc_auc_score(y_test, test_class_preds))"
      ],
      "metadata": {
        "id": "ZM9Wj4RwCLD4"
      },
      "execution_count": null,
      "outputs": []
    },
    {
      "cell_type": "markdown",
      "source": [
        "Then, I used KNN algorithm to create the model. Results were moderate.\n",
        "\n",
        "For training dataset, i found precision of 93% and recall of 100% and f1-score of 96% for stable company data. But, I am also interested to see the result for unstable company result as I got precision of 100% and recall of 93% and f1-score of 96%. Accuracy is 96% and average precision, recall & f1_score are 96%, 97% and 96% respectively with a roc auc score of 96%.\n",
        "\n",
        "For testing dataset, i found precision of 92% and recall of 99% and f1-score of 95% for stable company data. But, I am also interested to see the result for unstable company result as I got precision of 63% and recall of 21% and f1-score of 31%. Accuracy is 91% and average precision, recall & f1_score are 77%, 60% and 63% respectively with a roc auc score of 77%.\n",
        "\n",
        "Next tryting to improving the score by using hyperparameter tuning technique.\n"
      ],
      "metadata": {
        "id": "yWqINMrJjtNm"
      }
    },
    {
      "cell_type": "markdown",
      "source": [
        "# 2. Cross- Validation & Hyperparameter Tuning"
      ],
      "metadata": {
        "id": "f2E_Ll8MFTuw"
      }
    },
    {
      "cell_type": "code",
      "source": [
        "k_range = list(range(1, 31))\n",
        "weight_options = ['uniform', 'distance']\n",
        "# param grid\n",
        "param_grid = dict(n_neighbors=k_range, weights=weight_options)\n",
        "\n",
        "print(param_grid)\n",
        "n_estimators = [50,80,100]\n",
        "\n",
        "\n",
        "\n",
        "\n",
        "# Create an instance of the RandomForestClassifier\n",
        "knn = KNeighborsClassifier()\n",
        "\n",
        "# Fit the Algorithm\n",
        "# Grid search\n",
        "\n",
        "knn_grid = GridSearchCV(knn, param_grid, cv=5, scoring='accuracy', return_train_score=False)\n",
        "knn_grid1 = knn_grid.fit(X_train,y_train)\n",
        "# Predict on the model\n",
        "# Making predictions on train and test data\n",
        "\n",
        "train_class_preds = knn_grid1.predict(X_train)\n",
        "test_class_preds = knn_grid1.predict(X_test)"
      ],
      "metadata": {
        "id": "7d3q6E_1CLHm"
      },
      "execution_count": null,
      "outputs": []
    },
    {
      "cell_type": "code",
      "source": [
        "print(\"Best: %f using %s\" % (knn_grid.best_score_, knn_grid.best_params_))"
      ],
      "metadata": {
        "id": "ysid5t8DCLK4"
      },
      "execution_count": null,
      "outputs": []
    },
    {
      "cell_type": "code",
      "source": [
        "# Visualizing evaluation Metric Score chart\n",
        "# Visualizing evaluation Metric Score chart# Get the confusion matrix for both train and test\n",
        "\n",
        "labels = ['Stable', 'Unstable']\n",
        "cm = confusion_matrix(y_train, train_class_preds)\n",
        "print(cm)\n",
        "\n",
        "ax= plt.subplot()\n",
        "sns.heatmap(cm, annot=True, ax = ax) #annot=True to annotate cells\n",
        "\n",
        "# labels, title and ticks\n",
        "ax.set_xlabel('Predicted labels')\n",
        "ax.set_ylabel('True labels')\n",
        "ax.set_title('Confusion Matrix')\n",
        "ax.xaxis.set_ticklabels(labels)\n",
        "ax.yaxis.set_ticklabels(labels)"
      ],
      "metadata": {
        "id": "3u0sSkbMCLP_"
      },
      "execution_count": null,
      "outputs": []
    },
    {
      "cell_type": "code",
      "source": [
        "# Get the confusion matrix for both train and test\n",
        "\n",
        "labels = ['Stable', 'Unstable']\n",
        "cm = confusion_matrix(y_test, test_class_preds)\n",
        "print(cm)\n",
        "\n",
        "ax= plt.subplot()\n",
        "sns.heatmap(cm, annot=True, ax = ax) #annot=True to annotate cells\n",
        "\n",
        "# labels, title and ticks\n",
        "ax.set_xlabel('Predicted labels')\n",
        "ax.set_ylabel('True labels')\n",
        "ax.set_title('Confusion Matrix')\n",
        "ax.xaxis.set_ticklabels(labels)\n",
        "ax.yaxis.set_ticklabels(labels)"
      ],
      "metadata": {
        "id": "Mq5GjdBmCLWP"
      },
      "execution_count": null,
      "outputs": []
    },
    {
      "cell_type": "code",
      "source": [
        "print(metrics.classification_report(train_class_preds, y_train))\n",
        "print(\" \")\n",
        "\n",
        "print(\"roc_auc_score\")\n",
        "print(metrics.roc_auc_score(y_train, train_class_preds))"
      ],
      "metadata": {
        "id": "pVrn0ucKCLaw"
      },
      "execution_count": null,
      "outputs": []
    },
    {
      "cell_type": "code",
      "source": [
        "print(metrics.classification_report(test_class_preds, y_test))\n",
        "print(\" \")\n",
        "\n",
        "print(\"roc_auc_score\")\n",
        "print(metrics.roc_auc_score(y_test, test_class_preds))"
      ],
      "metadata": {
        "id": "mUEZf0dbHOK5"
      },
      "execution_count": null,
      "outputs": []
    },
    {
      "cell_type": "markdown",
      "source": [
        "Which hyperparameter optimization technique have you used and why?"
      ],
      "metadata": {
        "id": "Jbg1IlQ-HhKF"
      }
    },
    {
      "cell_type": "markdown",
      "source": [
        "GridSearchCV which uses the Grid Search technique for finding the optimal hyperparameters to increase the model performance.\n",
        "\n",
        "our goal should be to find the best hyperparameters values to get the perfect prediction results from our model. But the question arises, how to find these best sets of hyperparameters? One can try the Manual Search method, by using the hit and trial process and can find the best hyperparameters which would take huge time to build a single model.\n",
        "\n",
        "For this reason, methods like Random Search, GridSearch were introduced. Grid Search uses a different combination of all the specified hyperparameters and their values and calculates the performance for each combination and selects the best value for the hyperparameters. This makes the processing time-consuming and expensive based on the number of hyperparameters involved.\n",
        "\n",
        "In GridSearchCV, along with Grid Search, cross-validation is also performed. Cross-Validation is used while training the model.\n",
        "\n",
        "That's why I have used GridsearCV method for hyperparameter optimization.\n"
      ],
      "metadata": {
        "id": "aghcS5PBHkI5"
      }
    },
    {
      "cell_type": "markdown",
      "source": [
        "Have you seen any improvement? Note down the improvement with updates Evaluation metric Score Chart."
      ],
      "metadata": {
        "id": "_avUZDv6Hnlg"
      }
    },
    {
      "cell_type": "markdown",
      "source": [
        "For training dataset, I found precision of 100% and recall of 100% and f1-score of 100% for stable company data. But, I am also interested to see the result for unstable company result as I got precision of 100% and recall of 100% and f1-score of 100%. Accuracy is 100% and average precision, recall & f1_score are 100%, 100% and 100% respectively with a roc auc score of 99%.\n",
        "\n",
        "Overfitting after hyper-parameter tuning.\n",
        "\n",
        "For training dataset, I found precision of 96% and recall of 97% and f1-score of 97% for stable company data. But, I am also interested to see the result for unstable company result as I got precision of 28% and recall of 21% and f1-score of 24%. Accuracy is 94% and average precision, recall & f1_score are 62%, 59% and 60% respectively with a roc auc score of 62%.\n",
        "\n",
        "No improvement, scores were decreased."
      ],
      "metadata": {
        "id": "UaC1atgfHqSH"
      }
    },
    {
      "cell_type": "markdown",
      "source": [
        "# ML Model - 6 - Support Vector Classifier"
      ],
      "metadata": {
        "id": "nn-A_hoyIIR6"
      }
    },
    {
      "cell_type": "code",
      "source": [
        "# ML Model - 6 Implementation\n",
        "# Create an instance of the RandomForestClassifier\n",
        "sv_model = SVC()\n",
        "\n",
        "# Fit the Algorithm\n",
        "sv_models=sv_model.fit(X_train,y_train)\n",
        "\n",
        "# Predict on the model\n",
        "# Making predictions on train and test data\n",
        "\n",
        "train_class_preds = sv_models.predict(X_train)\n",
        "test_class_preds = sv_models.predict(X_test)"
      ],
      "metadata": {
        "id": "XbarSERdIRIW"
      },
      "execution_count": null,
      "outputs": []
    },
    {
      "cell_type": "markdown",
      "source": [
        "1. Explain the ML Model used and it's performance using Evaluation metric Score Chart."
      ],
      "metadata": {
        "id": "2vdrOR_pI1DA"
      }
    },
    {
      "cell_type": "code",
      "source": [
        "# Visualizing evaluation Metric Score chart\n",
        "# Visualizing evaluation Metric Score chart# Get the confusion matrix for both train and test\n",
        "\n",
        "labels = ['Stable', 'Unstable']\n",
        "cm = confusion_matrix(y_train, train_class_preds)\n",
        "print(cm)\n",
        "\n",
        "ax= plt.subplot()\n",
        "sns.heatmap(cm, annot=True, ax = ax) #annot=True to annotate cells\n",
        "\n",
        "# labels, title and ticks\n",
        "ax.set_xlabel('Predicted labels')\n",
        "ax.set_ylabel('True labels')\n",
        "ax.set_title('Confusion Matrix')\n",
        "ax.xaxis.set_ticklabels(labels)\n",
        "ax.yaxis.set_ticklabels(labels)"
      ],
      "metadata": {
        "id": "WWD-M1qFI2Yw"
      },
      "execution_count": null,
      "outputs": []
    },
    {
      "cell_type": "code",
      "source": [
        "# Get the confusion matrix for both train and test\n",
        "\n",
        "labels = ['Stable', 'Unstable']\n",
        "cm = confusion_matrix(y_test, test_class_preds)\n",
        "print(cm)\n",
        "\n",
        "ax= plt.subplot()\n",
        "sns.heatmap(cm, annot=True, ax = ax) #annot=True to annotate cells\n",
        "\n",
        "# labels, title and ticks\n",
        "ax.set_xlabel('Predicted labels')\n",
        "ax.set_ylabel('True labels')\n",
        "ax.set_title('Confusion Matrix')\n",
        "ax.xaxis.set_ticklabels(labels)\n",
        "ax.yaxis.set_ticklabels(labels)"
      ],
      "metadata": {
        "id": "GdUKa8UsI2dv"
      },
      "execution_count": null,
      "outputs": []
    },
    {
      "cell_type": "code",
      "source": [
        "print(metrics.classification_report(train_class_preds, y_train))\n",
        "print(\" \")\n",
        "\n",
        "print(\"roc_auc_score\")\n",
        "print(metrics.roc_auc_score(y_train, train_class_preds))"
      ],
      "metadata": {
        "id": "h9_yGRX1I2j3"
      },
      "execution_count": null,
      "outputs": []
    },
    {
      "cell_type": "code",
      "source": [
        "print(metrics.classification_report(test_class_preds, y_test))\n",
        "print(\" \")\n",
        "\n",
        "print(\"roc_auc_score\")\n",
        "print(metrics.roc_auc_score(y_test, test_class_preds))"
      ],
      "metadata": {
        "id": "4B7EpXrKI2nu"
      },
      "execution_count": null,
      "outputs": []
    },
    {
      "cell_type": "markdown",
      "source": [
        "Then, I used SVC algorithm to create the model. Results were moderate.\n",
        "\n",
        "For training dataset, I found precision of 87% and recall of 97% and f1-score of 92% for stable company data. But, I am also interested to see the result for unstable company result as I got precision of 97% and recall of 88% and f1-score of 92%. Accuracy is 92% and average precision, recall & f1_score are 92%, 92% and 92% respectively with a roc auc score of 92%.\n",
        "\n",
        "For testing dataset, I found precision of 87% and recall of 99% and f1-score of 93% for stable company data. But, I am also interested to see the result for unstable company result as I got precision of 87% and recall of 19% and f1-score of 31%. Accuracy is 87% and average precision, recall & f1_score are 87%, 59% and 62% respectively with a roc auc score of 86%.\n",
        "\n",
        "Next tryting to improving the score by using hyperparameter tuning technique.\n"
      ],
      "metadata": {
        "id": "btlwlRiElzmf"
      }
    },
    {
      "cell_type": "markdown",
      "source": [
        "# 2. Cross- Validation & Hyperparameter Tuning\n",
        "\n",
        "\n"
      ],
      "metadata": {
        "id": "4gL3CR46JUZI"
      }
    },
    {
      "cell_type": "code",
      "source": [
        "# ML Model - 3 Implementation with hyperparameter optimization techniques (i.e., GridSearch CV, RandomSearch CV, Bayesian Optimization etc.)\n",
        "\n",
        "\n",
        "# HYperparameter Grid\n",
        "param_grid = {'C':[1,10,100,1000],'gamma':[1,0.1,0.001,0.0001], 'kernel':['linear','rbf']}\n",
        "\n",
        "# Create an instance of the RandomForestClassifier\n",
        "svc_model = SVC()\n",
        "\n",
        "# Fit the Algorithm\n",
        "# Grid search\n",
        "svc_grid = GridSearchCV(SVC(),param_grid,refit = True, verbose=2)\n",
        "\n",
        "svc_grid1=svc_grid.fit(X_train,y_train)\n",
        "# Predict on the model\n",
        "# Making predictions on train and test data\n",
        "\n",
        "train_class_preds = svc_grid1.predict(X_train)\n",
        "test_class_preds = svc_grid1.predict(X_test)"
      ],
      "metadata": {
        "id": "mQfqaxLdI2rG"
      },
      "execution_count": null,
      "outputs": []
    },
    {
      "cell_type": "code",
      "source": [
        "print(\"Best: %f using %s\" % (xg_grid.best_score_, xg_grid.best_params_))"
      ],
      "metadata": {
        "id": "0TypHplrJbwj"
      },
      "execution_count": null,
      "outputs": []
    },
    {
      "cell_type": "code",
      "source": [
        "# Visualizing evaluation Metric Score chart\n",
        "# Visualizing evaluation Metric Score chart# Get the confusion matrix for both train and test\n",
        "\n",
        "labels = ['Retained', 'Churned']\n",
        "cm = confusion_matrix(y_train, train_class_preds)\n",
        "print(cm)\n",
        "\n",
        "ax= plt.subplot()\n",
        "sns.heatmap(cm, annot=True, ax = ax) #annot=True to annotate cells\n",
        "\n",
        "# labels, title and ticks\n",
        "ax.set_xlabel('Predicted labels')\n",
        "ax.set_ylabel('True labels')\n",
        "ax.set_title('Confusion Matrix')\n",
        "ax.xaxis.set_ticklabels(labels)\n",
        "ax.yaxis.set_ticklabels(labels)"
      ],
      "metadata": {
        "id": "DNfj069rJb2p"
      },
      "execution_count": null,
      "outputs": []
    },
    {
      "cell_type": "code",
      "source": [
        "# Get the confusion matrix for both train and test\n",
        "\n",
        "labels = ['Retained', 'Churned']\n",
        "cm = confusion_matrix(y_test, test_class_preds)\n",
        "print(cm)\n",
        "\n",
        "ax= plt.subplot()\n",
        "sns.heatmap(cm, annot=True, ax = ax) #annot=True to annotate cells\n",
        "\n",
        "# labels, title and ticks\n",
        "ax.set_xlabel('Predicted labels')\n",
        "ax.set_ylabel('True labels')\n",
        "ax.set_title('Confusion Matrix')\n",
        "ax.xaxis.set_ticklabels(labels)\n",
        "ax.yaxis.set_ticklabels(labels)"
      ],
      "metadata": {
        "id": "_4GolPI_Jb6a"
      },
      "execution_count": null,
      "outputs": []
    },
    {
      "cell_type": "code",
      "source": [
        "print(metrics.classification_report(train_class_preds, y_train))\n",
        "print(\" \")\n",
        "\n",
        "print(\"roc_auc_score\")\n",
        "print(metrics.roc_auc_score(y_train, train_class_preds))"
      ],
      "metadata": {
        "id": "Ub6WkQ70KBTw"
      },
      "execution_count": null,
      "outputs": []
    },
    {
      "cell_type": "code",
      "source": [
        "print(metrics.classification_report(test_class_preds, y_test))\n",
        "print(\" \")\n",
        "\n",
        "print(\"roc_auc_score\")\n",
        "print(metrics.roc_auc_score(y_test, test_class_preds))"
      ],
      "metadata": {
        "id": "WVlWUMdTKBZg"
      },
      "execution_count": null,
      "outputs": []
    },
    {
      "cell_type": "markdown",
      "source": [
        "Which hyperparameter optimization technique have you used and why?"
      ],
      "metadata": {
        "id": "r8FSiBqGKICf"
      }
    },
    {
      "cell_type": "markdown",
      "source": [
        "GridSearchCV which uses the Grid Search technique for finding the optimal hyperparameters to increase the model performance.\n",
        "\n",
        "our goal should be to find the best hyperparameters values to get the perfect prediction results from our model. But the question arises, how to find these best sets of hyperparameters? One can try the Manual Search method, by using the hit and trial process and can find the best hyperparameters which would take huge time to build a single model.\n",
        "\n",
        "For this reason, methods like Random Search, GridSearch were introduced. Grid Search uses a different combination of all the specified hyperparameters and their values and calculates the performance for each combination and selects the best value for the hyperparameters. This makes the processing time-consuming and expensive based on the number of hyperparameters involved.\n",
        "\n",
        "In GridSearchCV, along with Grid Search, cross-validation is also performed. Cross-Validation is used while training the model.\n",
        "\n",
        "That's why I have used GridsearCV method for hyperparameter optimization.\n"
      ],
      "metadata": {
        "id": "K0RNKW5aKJZN"
      }
    },
    {
      "cell_type": "markdown",
      "source": [
        "Have you seen any improvement? Note down the improvement with updates Evaluation metric Score Chart."
      ],
      "metadata": {
        "id": "gS1du1B_KMop"
      }
    },
    {
      "cell_type": "markdown",
      "source": [
        "For training dataset, I found precision of 100% and recall of 100% and f1-score of 100% for stable company data. But, I am also interested to see the result for unstable company result as I got precision of 100% and recall of 100% and f1-score of 100%. Accuracy is 100% and average precision, recall & f1_score are 100%, 100% and 100% respectively with a roc auc score of 99%.\n",
        "\n",
        "Overfitting after hyper-parameter tuning.\n",
        "\n",
        "For training dataset, I found precision of 98% and recall of 97% and f1-score of 98% for stable company data. But, I am also interested to see the result for unstable company result as I got precision of 20% and recall of 26% and f1-score of 22%. Accuracy is 95% and average precision, recall & f1_score are 59%, 61% and 60% respectively with a roc auc score of 58%.\n",
        "\n",
        "Accuracy and recall were slighly improved rest all scores were decreased.\n"
      ],
      "metadata": {
        "id": "JlDCOlqbKQ38"
      }
    },
    {
      "cell_type": "markdown",
      "source": [
        "### 1. Which Evaluation metrics did you consider for a positive business impact and why?"
      ],
      "metadata": {
        "id": "h_CCil-SKHpo"
      }
    },
    {
      "cell_type": "markdown",
      "source": [
        "I would like to go with both Recall and Precision and which describes both is F1 Score.\n",
        "\n",
        "To reduce false negative recall is important and to reduce false positives precision is important. Where both are important to be minimized, f1_score is being considered. False Positive is defined as the model predicted that the company is unstable but it was stable. But according to our model it is unstable, there would be quite chance of the unstability not for immediate but after some times. So, for those type of companies we can protect them from going bankrupt by improving some metrics. Again false negative defines as model will predict that the companies won't bankrupt but they did. That will be an issue for us. So, for that case we have to minimize the false negative, and false positive we must improve the score of both precision as well as recall which should directly affect the f1_score positively. So, in our case recall will stand the higher but precision can't be neglected. so, recall should be higher and f1_score should be moderate.\n"
      ],
      "metadata": {
        "id": "jHVz9hHDKFms"
      }
    },
    {
      "cell_type": "markdown",
      "source": [
        "### 2. Which ML model did you choose from the above created models as your final prediction model and why?"
      ],
      "metadata": {
        "id": "cBFFvTBNJzUa"
      }
    },
    {
      "cell_type": "markdown",
      "source": [
        "I have choosen XGBoost model which is hyperparameter optimized. First of all I need accuracy for the bankruptcy prediction and time isn't a constrain here, beacuse the data is not lke swiggy or ola which booking needs to be faster. Thus, for greater accuracy we used SVC, Random Forest, XgBoost kind of ensemble techniques. So, I tried both Random Forest and XGBoost. Here is their ealuation metrics and I would like to compare."
      ],
      "metadata": {
        "id": "6ksF5Q1LKTVm"
      }
    },
    {
      "cell_type": "markdown",
      "source": [
        "![Screenshot 2022-12-11 at 2.28.01 AM.png](data:image/png;base64,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)"
      ],
      "metadata": {
        "id": "fbEPdZ9x1fAT"
      }
    },
    {
      "cell_type": "markdown",
      "source": [
        "![Screenshot 2022-12-11 at 2.28.47 AM.png](data:image/png;base64,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)"
      ],
      "metadata": {
        "id": "Vg-YbvEx1fG_"
      }
    },
    {
      "cell_type": "markdown",
      "source": [
        "From the above snap shot, we can clearly see that for XGBoost has a improved score of f1_score over random forest. the accuracy and recall is also improved for xg boost. In averge scores of precision except macro avg and f1_score is too low in RF. In case of xgboost it's higher than that of random forest.\n",
        "\n",
        "So, I have chosen XGBoost as the final prediction model which should be deployed for real user interaction.\n"
      ],
      "metadata": {
        "id": "CL-F5aYB1fLe"
      }
    },
    {
      "cell_type": "markdown",
      "source": [],
      "metadata": {
        "id": "o-rGwO581fTQ"
      }
    },
    {
      "cell_type": "markdown",
      "source": [
        "### 3. Explain the model which you have used and the feature importance using any model explainability tool?"
      ],
      "metadata": {
        "id": "HvGl1hHyA_VK"
      }
    },
    {
      "cell_type": "code",
      "source": [
        "#Get shap values\n",
        "explainer = shap.Explainer(xg_models)\n",
        "shap_values = explainer(X_test) "
      ],
      "metadata": {
        "id": "yO97ANS03b7Y"
      },
      "execution_count": null,
      "outputs": []
    },
    {
      "cell_type": "code",
      "source": [
        "# Waterfall plot for first observation\n",
        "shap.plots.waterfall(shap_values[0],max_display=14, show=True)"
      ],
      "metadata": {
        "id": "7dTwjTvG3cRv"
      },
      "execution_count": null,
      "outputs": []
    },
    {
      "cell_type": "markdown",
      "source": [
        "![Screenshot 2022-12-12 at 6.17.13 PM.png](data:image/png;base64,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)"
      ],
      "metadata": {
        "id": "B_jEKdCvZ4go"
      }
    },
    {
      "cell_type": "markdown",
      "source": [
        "To better understand this, let’s dive into our first SHAP plot. Above we have the code to create a waterfall plot for the first abalone in our dataset. This plot helps us visualise the SHAP values for each of the features. These tell us how much each of the features have increased or decreased the predicted number of rings for this specific abalone. Note that in the above explanation the 2 least impactful features have been collapsed into a single term so that we don’t show more than 13 rows in the plot.\n",
        "\n",
        "Looking at the x-axis, we can see the base value is E[f(x)] = -0.014. This is the average predicted number of rings across all 6818 abalones. The ending value is f(x) = -2.996. This is the predicted Bankrupt type for this abalone. The SHAP values are all the values in between. For example, feature 11 increased the predicted number of rings by 0.25 when compared to the average predicted rings.\n",
        "\n",
        "There will be a unique waterfall plot for every observation/abalone in our dataset. They can all be interpreted in the same way as above. In each case, the SHAP values tell us how much each factor contributed to the model’s prediction when compared to the mean prediction. Large positive/negative SHAP values indicate that the feature had a significant impact on the model’s prediction.\n"
      ],
      "metadata": {
        "id": "YnvVTiIxBL-C"
      }
    },
    {
      "cell_type": "code",
      "source": [
        "# Initialize JavaScript visualizations in notebook environment\n",
        "shap.initjs()\n",
        "# Forceplot for first observation\n",
        "shap.plots.force(shap_values[0])"
      ],
      "metadata": {
        "id": "0siR_em7aVix"
      },
      "execution_count": null,
      "outputs": []
    },
    {
      "cell_type": "markdown",
      "source": [
        "Another way to visualise SHAP values is using a force plot. These give us pretty much the same information as a waterfall plot in a straight line how the geatures are contributiong and the relationship between the features. You can also see how each feature increases/decrease the predicted value to give us the final prediction. You can see we start at the same base value of -0.014."
      ],
      "metadata": {
        "id": "3HSA1xVxavWl"
      }
    },
    {
      "cell_type": "code",
      "source": [
        "# Get expected value and shap values array\n",
        "expected_value = explainer.expected_value\n",
        "shap_array = explainer.shap_values(X_test)\n",
        "\n",
        "#Descion plot for first 10 observations\n",
        "shap.decision_plot(expected_value, shap_array[0:10],feature_names=list(x.columns))"
      ],
      "metadata": {
        "id": "QSPNKDLfcNKr"
      },
      "execution_count": null,
      "outputs": []
    },
    {
      "cell_type": "markdown",
      "source": [
        "Waterfall and force plots are great for interpreting individual predictions. To understand how our model makes predictions in general we need to aggregate the SHAP values. One way to do this is using a decision plot. Above we have the code used to output the decision plot for the first 10 abalones.\n",
        "\n",
        "We can see there are 10 lines in the plot — one for each abalone. They all start at the same base value of -0.014 and end at their final predicted number of rings. As you move up from each feature on the y-axis, the movement on the x-axis is given by the SHAP value for that feature. Ultimately, this gives you similar information to a waterfall plot except we can now see it for multiple observations.\n",
        "\n",
        "With only 10 observations, we can already see some trends. For example, some of the lines seem to zig-zag at the top of the chart. For these observations, the Net income to Total Assets increases the prediction (i.e. positive SHAP) and borowwing dependency and persistent eps in the Last four seasons decrease the prediction (i.e. negative SHAP). In other words, these features have opposite effects on the prediction. When we look at plot 5 — beeswarm, we will see that this is the case for the model in general.\n",
        "\n",
        "An issue with this chart is that we can’t use it to visualise all the SHAP values at once. As you increase the number of observations it will become too cluttered and it will be difficult to gain any understanding of how the model works. We are limited to interpreting the SHAP values for a handful of observations.\n"
      ],
      "metadata": {
        "id": "LyRzQWTLfqQD"
      }
    },
    {
      "cell_type": "code",
      "source": [
        "#Mean SHAP\n",
        "shap.plots.bar(shap_values)"
      ],
      "metadata": {
        "id": "QwckxohNcNWe"
      },
      "execution_count": null,
      "outputs": []
    },
    {
      "cell_type": "markdown",
      "source": [
        "Another way to aggregate the values is using a mean SHAP plot. For each feature, we calculate the mean of the absolute SHAP values across all observations. We take the absolute values as we do not want positive and negative values to offset each other. In the end, we have the bar plot above. There is one bar for each feature and we can see that feature 3 i.e Persistent EPS in the Last four seasons had the largest mean SHAP out of all the features.\n",
        "\n",
        "Features that have large mean SHAP values will tend to have large positive/negative SHAP values. In other words, these are the features that have a significant impact on the model’s predictions. In this sense, this plot can be used in the same way as a feature importance plot. That is to highlight features that are important to a model’s predictions. An issue is that it does not tell us anything about the nature of the relationship between features and the target variable.\n"
      ],
      "metadata": {
        "id": "R4UoLjBGiOb_"
      }
    },
    {
      "cell_type": "code",
      "source": [
        "# Beeswarm plot\n",
        "shap.plots.beeswarm(shap_values,max_display=16, show=True)"
      ],
      "metadata": {
        "id": "Vh-VAMXPiNKI"
      },
      "execution_count": null,
      "outputs": []
    },
    {
      "cell_type": "markdown",
      "source": [
        "Our final aggregation is the beeswarm plot. As seen in Figure, this is a plot of all the SHAP values. The values are grouped by the features on the y-axis. For each group, the colour of the points is determined by the value of the same feature (i.e. higher feature values are redder). The features are ordered by the mean SHAP values.\n",
        "\n",
        "This plot addresses some of the issues in the previous plots. Unlike the decision plot, we can plot all the observations and still have clear interpretations. Like mean SHAP, it can be used to highlight important relationships. We can also start to understand the nature of these relationships. For example, for feature 7 notice how as the feature value increases the SHAP values increase.\n"
      ],
      "metadata": {
        "id": "e82KQLTgiNlb"
      }
    },
    {
      "cell_type": "markdown",
      "source": [
        "## ***8.*** ***Future Work (Optional)***"
      ],
      "metadata": {
        "id": "EyNgTHvd2WFk"
      }
    },
    {
      "cell_type": "markdown",
      "source": [
        "### 1. Save the best performing ml model in a pickle file or joblib file format for deployment process.\n"
      ],
      "metadata": {
        "id": "KH5McJBi2d8v"
      }
    },
    {
      "cell_type": "code",
      "source": [
        "# loading library\n",
        "import pickle"
      ],
      "metadata": {
        "id": "SpjPBcABnoE9"
      },
      "execution_count": null,
      "outputs": []
    },
    {
      "cell_type": "code",
      "source": [
        "# create an iterator object with write permission - model.pkl\n",
        "\n",
        "with open('model_pkl', 'wb') as files:\n",
        "    pickle.dump(xg_models, files)"
      ],
      "metadata": {
        "id": "jBczWIrunoR2"
      },
      "execution_count": null,
      "outputs": []
    },
    {
      "cell_type": "code",
      "source": [
        "# load saved model\n",
        "with open('model_pkl' , 'rb') as f:\n",
        "    xg = pickle.load(f)"
      ],
      "metadata": {
        "id": "l21pX6-enofI"
      },
      "execution_count": null,
      "outputs": []
    },
    {
      "cell_type": "code",
      "source": [
        "# check prediction\n",
        "\n",
        "xg.predict(X_test) # similar"
      ],
      "metadata": {
        "id": "bQIANRl32f4J"
      },
      "execution_count": null,
      "outputs": []
    },
    {
      "cell_type": "markdown",
      "source": [
        "### 2. Again Load the saved model file and try to predict unseen data for a sanity check.\n"
      ],
      "metadata": {
        "id": "iW_Lq9qf2h6X"
      }
    },
    {
      "cell_type": "code",
      "source": [
        "# Load the File and predict unseen data.\n",
        "\n",
        "with open('model_pkl' , 'rb') as f:\n",
        "    xg = pickle.load(f)\n",
        "\n",
        "ind = 1\n",
        "test = X_test[ind]\n",
        "\n",
        "xg.predict(X_test)\n"
      ],
      "metadata": {
        "id": "oEXk9ydD2nVC"
      },
      "execution_count": null,
      "outputs": []
    },
    {
      "cell_type": "markdown",
      "source": [
        "### ***Congrats! Your model is successfully created and ready for deployment on a live server for a real user interaction !!!***"
      ],
      "metadata": {
        "id": "-Kee-DAl2viO"
      }
    },
    {
      "cell_type": "markdown",
      "source": [
        "# **Conclusion**"
      ],
      "metadata": {
        "id": "gCX9965dhzqZ"
      }
    },
    {
      "cell_type": "markdown",
      "source": [
        "Write the conclusion here."
      ],
      "metadata": {
        "id": "Fjb1IsQkh3yE"
      }
    },
    {
      "cell_type": "markdown",
      "source": [
        "### ***Hurrah! You have successfully completed your Machine Learning Capstone Project !!!***"
      ],
      "metadata": {
        "id": "gIfDvo9L0UH2"
      }
    }
  ]
}